{
 "cells": [
  {
   "cell_type": "markdown",
   "metadata": {},
   "source": [
    "$\\int\\limits_{\\partial M}$"
   ]
  },
  {
   "cell_type": "markdown",
   "metadata": {},
   "source": [
    "vector field on xy plane, boundary $x(t)\\vec{\\unicode{x0411}}_x+y(t)\\vec{\\unicode{x0411}}_y$"
   ]
  },
  {
   "cell_type": "code",
   "execution_count": 1,
 globalThis.MathJax.Hub  "metadata": {
    "collapsed": false
   },
   "outputs": [
    {
     "data": {
      "image/png": "iVBORw0KGgoAAAANSUhEUgAAAXkAAAEACAYAAABWLgY0AAAABHNCSVQICAgIfAhkiAAAAAlwSFlz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\n",
      "text/plain": [
       "<matplotlib.figure.Figure at 0x7f33e5c2a518>"
      ]
     },
     "metadata": {},
     "output_type": "display_data"
    },
    {
     "data": {
      "text/latex": [
       "\\begin{equation*} \\left ( F^{x} {\\left (x,y \\right )} \\frac{\\partial}{\\partial t} x {\\left (t \\right )} + F^{y} {\\left (x,y \\right )} \\frac{\\partial}{\\partial t} y {\\left (t \\right )}\\right )  + \\left ( - F^{x} {\\left (x,y \\right )} \\frac{\\partial}{\\partial t} y {\\left (t \\right )} + F^{y} {\\left (x,y \\right )} \\frac{\\partial}{\\partial t} x {\\left (t \\right )}\\right ) \\boldsymbol{Б}_{x}\\wedge \\boldsymbol{Б}_{y} \\end{equation*}"
      ],
      "text/plain": [
       "F__x*D{t}x + F__y*D{t}y + (-F__x*D{t}y + F__y*D{t}x)*Б_x^Б_y"
      ]
     },
     "execution_count": 1,
     "metadata": {},
     "output_type": "execute_result"
    }
   ],
   "source": [
    "import matplotlib\n",
    "axes=matplotlib.pyplot.subplot(1,1,1)\n",
    "axes.set_axis_off()\n",
    "axes.text(0.1,0.05,'0')\n",
    "axes.arrow(0.1,0.1,0.8,0,color='black')\n",
    "axes.text(0.95,0.1,'x')\n",
    "axes.arrow(0.1,0.1,0,0.8,color='black')\n",
    "axes.text(0.1,0.95,'y')\n",
    "axes.add_patch(matplotlib.patches.FancyArrowPatch([0.3,0.3],[0.8,0.2],connectionstyle='arc3,rad=-0.3',arrowstyle='->,head_length=5,head_width=5'))\n",
    "axes.add_patch(matplotlib.patches.FancyArrowPatch([0.8,0.2],[0.7,0.8],connectionstyle='arc3,rad=0.7',arrowstyle='->,head_length=5,head_width=5'))\n",
    "axes.add_patch(matplotlib.patches.FancyArrowPatch([0.7,0.8],[0.2,0.7],connectionstyle='arc3,rad=0.5',arrowstyle='->,head_length=5,head_width=5'))\n",
    "axes.add_patch(matplotlib.patches.FancyArrowPatch([0.2,0.7],[0.3,0.3],connectionstyle='arc3,rad=-0.3',arrowstyle='->,head_length=5,head_width=5'))\n",
    "matplotlib.pyplot.show()\n",
    "import sympy,galgebra\n",
    "ga=galgebra.Ga('\\u0411*x|y',g=[1,1],coords=sympy.symbols('x,y',real=True))\n",
    "F=ga.mv('F','vector',f=True)\n",
    "t=sympy.symbols('t',real=True)\n",
    "x,y=sympy.symbols('x,y',function=True)\n",
    "(x(t)*ga.mv()[0]+y(t)*ga.mv()[1]).diff(t)*F"
   ]
  },
  {
   "cell_type": "markdown",
   "metadata": {},
   "source": [
    "$\\newcommand{\\base}{\\vec{\\unicode{x0411}}}\n",
    "\\newcommand{\\diff}{\\unicode{x0111}}$\n",
    "bottom$=\\int\\{F^x(x,y_{\\text{bottom}}(x))+F^y(x,y_{\\text{bottom}}(x))\\frac{\\diff y_{\\text{bottom}}(x)}{\\diff x}+[F^y(x,y_{\\text{bottom}}(x))-F^x(x,y_{\\text{bottom}}(x))\\frac{\\diff y_{\\text{bottom}}(x)}{\\diff x}]\\base_x\\wedge\\base_y\\}\\diff x$ outward $-\\base_y$\n",
    "\n",
    "right$=\\int\\{F^x(x_{\\text{right}}(y),y)\\frac{\\diff x_{\\text{right}}(y)}{\\diff y}+F^y(x_{\\text{right}}(y),y)+[F^y(x_{\\text{right}}(y),y)\\frac{\\diff x_{\\text{right}}(y)}{\\diff y}-F^x(x_{\\text{right}}(y),y)]\\base_x\\wedge\\base_y\\}\\diff y$ outward $\\base_x$\n",
    "\n",
    "top$=\\int\\{F^x(x,y_{\\text{top}}(x))+F^y(x,y_{\\text{top}}(x))\\frac{\\diff y_{\\text{top}}(x)}{\\diff x}+[F^y(x,y_{\\text{top}}(x))-F^x(x,y_{\\text{top}}(x))\\frac{\\diff y_{\\text{top}}(x)}{\\diff x}]\\base_x\\wedge\\base_y\\}\\diff x$ outward $\\base_y$\n",
    "\n",
    "left$=\\int\\{F^x(x_{\\text{left}}(y),y)\\frac{\\diff x_{\\text{left}}(y)}{\\diff y}+F^y(x_{\\text{left}}(y),y)+[F^y(x_{\\text{left}}(y),y)\\frac{\\diff x_{\\text{left}}(y)}{\\diff y}-F^x(x_{\\text{left}}(y),y)]\\base_x\\wedge\\base_y\\}\\diff y$ outward $-\\base_x$"
   ]
  },
  {
   "cell_type": "code",
   "execution_count": 2,
   "metadata": {
    "collapsed": false
   },
   "outputs": [
    {
     "data": {
      "text/latex": [
       "\\begin{equation*} \\left ( - \\frac{\\partial}{\\partial y} F^{x} {\\left (x,y \\right )} + \\frac{\\partial}{\\partial x} F^{y} {\\left (x,y \\right )}\\right )  + \\left ( - \\frac{\\partial}{\\partial x} F^{x} {\\left (x,y \\right )} - \\frac{\\partial}{\\partial y} F^{y} {\\left (x,y \\right )}\\right ) \\boldsymbol{Б}_{x}\\wedge \\boldsymbol{Б}_{y} \\end{equation*}"
      ],
      "text/plain": [
       "-D{y}F__x + D{x}F__y + (-D{x}F__x - D{y}F__y)*Б_x^Б_y"
      ]
     },
     "execution_count": 2,
     "metadata": {},
     "output_type": "execute_result"
    }
   ],
   "source": [
    "(-ga.E())*ga.grads()[0]*F"
   ]
  },
  {
   "cell_type": "code",
   "execution_count": 3,
   "metadata": {
    "collapsed": false
   },
   "outputs": [
    {
     "data": {
      "text/latex": [
       "\\begin{equation*} \\left ( \\frac{\\partial}{\\partial z} F^{y} {\\left (x,y,z \\right )} - \\frac{\\partial}{\\partial y} F^{z} {\\left (x,y,z \\right )}\\right ) \\boldsymbol{Б}_{x} + \\left ( - \\frac{\\partial}{\\partial z} F^{x} {\\left (x,y,z \\right )} + \\frac{\\partial}{\\partial x} F^{z} {\\left (x,y,z \\right )}\\right ) \\boldsymbol{Б}_{y} + \\left ( \\frac{\\partial}{\\partial y} F^{x} {\\left (x,y,z \\right )} - \\frac{\\partial}{\\partial x} F^{y} {\\left (x,y,z \\right )}\\right ) \\boldsymbol{Б}_{z} + \\left ( \\frac{\\partial}{\\partial x} F^{x} {\\left (x,y,z \\right )} + \\frac{\\partial}{\\partial y} F^{y} {\\left (x,y,z \\right )} + \\frac{\\partial}{\\partial z} F^{z} {\\left (x,y,z \\right )}\\right ) \\boldsymbol{Б}_{x}\\wedge \\boldsymbol{Б}_{y}\\wedge \\boldsymbol{Б}_{z} \\end{equation*}"
      ],
      "text/plain": [
       "(D{z}F__y - D{y}F__z)*Б_x + (-D{z}F__x + D{x}F__z)*Б_y + (D{y}F__x - D{x}F__y)*Б_z + (D{x}F__x + D{y}F__y + D{z}F__z)*Б_x^Б_y^Б_z"
      ]
     },
     "execution_count": 3,
     "metadata": {},
     "output_type": "execute_result"
    }
   ],
   "source": [
    "ga=galgebra.Ga('\\u0411*x|y|z',g=[1,1,1],coords=sympy.symbols('x,y,z',real=True))\n",
    "F=ga.mv('F','vector',f=True)\n",
    "(ga.E())*ga.grads()[0]*F"
   ]
  },
  {
   "cell_type": "code",
   "execution_count": 9,
   "metadata": {
    "collapsed": false
   },
   "outputs": [
    {
     "data": {
      "text/latex": [
       "\\begin{equation*} \\left ( F^{y} {\\left (x,y,z \\right )} \\frac{\\partial}{\\partial u} x {\\left (u,v \\right )} \\frac{\\partial}{\\partial v} y {\\left (u,v \\right )} - F^{y} {\\left (x,y,z \\right )} \\frac{\\partial}{\\partial v} x {\\left (u,v \\right )} \\frac{\\partial}{\\partial u} y {\\left (u,v \\right )} + F^{z} {\\left (x,y,z \\right )} \\frac{\\partial}{\\partial u} x {\\left (u,v \\right )} \\frac{\\partial}{\\partial v} z {\\left (u,v \\right )} - F^{z} {\\left (x,y,z \\right )} \\frac{\\partial}{\\partial v} x {\\left (u,v \\right )} \\frac{\\partial}{\\partial u} z {\\left (u,v \\right )}\\right ) \\boldsymbol{Б}_{x} + \\left ( \\left(- \\frac{\\partial}{\\partial u} x {\\left (u,v \\right )} \\frac{\\partial}{\\partial v} y {\\left (u,v \\right )} + \\frac{\\partial}{\\partial v} x {\\left (u,v \\right )} \\frac{\\partial}{\\partial u} y {\\left (u,v \\right )}\\right) F^{x} {\\left (x,y,z \\right )} + F^{z} {\\left (x,y,z \\right )} \\frac{\\partial}{\\partial u} y {\\left (u,v \\right )} \\frac{\\partial}{\\partial v} z {\\left (u,v \\right )} - F^{z} {\\left (x,y,z \\right )} \\frac{\\partial}{\\partial v} y {\\left (u,v \\right )} \\frac{\\partial}{\\partial u} z {\\left (u,v \\right )}\\right ) \\boldsymbol{Б}_{y} + \\left ( \\left(- F^{x} {\\left (x,y,z \\right )} \\frac{\\partial}{\\partial u} x {\\left (u,v \\right )} - F^{y} {\\left (x,y,z \\right )} \\frac{\\partial}{\\partial u} y {\\left (u,v \\right )}\\right) \\frac{\\partial}{\\partial v} z {\\left (u,v \\right )} + \\left(F^{x} {\\left (x,y,z \\right )} \\frac{\\partial}{\\partial v} x {\\left (u,v \\right )} + F^{y} {\\left (x,y,z \\right )} \\frac{\\partial}{\\partial v} y {\\left (u,v \\right )}\\right) \\frac{\\partial}{\\partial u} z {\\left (u,v \\right )}\\right ) \\boldsymbol{Б}_{z} + \\left ( \\left(\\frac{\\partial}{\\partial u} x {\\left (u,v \\right )} \\frac{\\partial}{\\partial v} y {\\left (u,v \\right )} - \\frac{\\partial}{\\partial v} x {\\left (u,v \\right )} \\frac{\\partial}{\\partial u} y {\\left (u,v \\right )}\\right) F^{z} {\\left (x,y,z \\right )} + \\left(- \\frac{\\partial}{\\partial u} x {\\left (u,v \\right )} \\frac{\\partial}{\\partial v} z {\\left (u,v \\right )} + \\frac{\\partial}{\\partial v} x {\\left (u,v \\right )} \\frac{\\partial}{\\partial u} z {\\left (u,v \\right )}\\right) F^{y} {\\left (x,y,z \\right )} + F^{x} {\\left (x,y,z \\right )} \\frac{\\partial}{\\partial u} y {\\left (u,v \\right )} \\frac{\\partial}{\\partial v} z {\\left (u,v \\right )} - F^{x} {\\left (x,y,z \\right )} \\frac{\\partial}{\\partial v} y {\\left (u,v \\right )} \\frac{\\partial}{\\partial u} z {\\left (u,v \\right )}\\right ) \\boldsymbol{Б}_{x}\\wedge \\boldsymbol{Б}_{y}\\wedge \\boldsymbol{Б}_{z} \\end{equation*}"
      ],
      "text/plain": [
       "(F__y*D{u}x*D{v}y - F__y*D{v}x*D{u}y + F__z*D{u}x*D{v}z - F__z*D{v}x*D{u}z)*Б_x + (-F__x*D{u}x*D{v}y + F__x*D{v}x*D{u}y + F__z*D{u}y*D{v}z - F__z*D{v}y*D{u}z)*Б_y + (-F__x*D{u}x*D{v}z + F__x*D{v}x*D{u}z - F__y*D{u}y*D{v}z + F__y*D{v}y*D{u}z)*Б_z + (F__x*D{u}y*D{v}z - F__x*D{v}y*D{u}z - F__y*D{u}x*D{v}z + F__y*D{v}x*D{u}z + F__z*D{u}x*D{v}y - F__z*D{v}x*D{u}y)*Б_x^Б_y^Б_z"
      ]
     },
     "execution_count": 9,
     "metadata": {},
     "output_type": "execute_result"
    }
   ],
   "source": [
    "u,v=sympy.symbols('u,v',real=True)\n",
    "x,y,z=sympy.symbols('x,y,z',function=True)\n",
    "((x(u,v)*ga.mv()[0]+y(u,v)*ga.mv()[1]+z(u,v)*ga.mv()[2]).diff(u)^(x(u,v)*ga.mv()[0]+y(u,v)*ga.mv()[1]+z(u,v)*ga.mv()[2]).diff(v))*F"
   ]
  },
  {
   "cell_type": "code",
   "execution_count": 5,
   "metadata": {
    "collapsed": false
   },
   "outputs": [
    {
     "data": {
      "text/latex": [
       "\\begin{equation*} F = F^{x} {\\left (x,y,z \\right )} \\boldsymbol{Б}_{x} + F^{y} {\\left (x,y,z \\right )} \\boldsymbol{Б}_{y} + F^{z} {\\left (x,y,z \\right )} \\boldsymbol{Б}_{z} \\end{equation*}"
      ],
      "text/plain": [
       "F__x*Б_x + F__y*Б_y + F__z*Б_z"
      ]
     },
     "execution_count": 5,
     "metadata": {},
     "output_type": "execute_result"
    }
   ],
   "source": [
    "F"
   ]
  },
  {
   "cell_type": "code",
   "execution_count": null,
   "metadata": {
    "collapsed": false
   },
   "outputs": [],
   "source": []
  }
 ],
 "metadata": {
  "kernelspec": {
   "display_name": "Python 3",
   "language": "python",
   "name": "python3"
  },
  "language_info": {
   "codemirror_mode": {
    "name": "ipython",
    "version": 3
   },
   "file_extension": ".py",
   "mimetype": "text/x-python",
   "name": "python",
   "nbconvert_exporter": "python",
   "pygments_lexer": "ipython3",
   "version": "3.5.2"
  }
 },
 "nbformat": 4,
 "nbformat_minor": 0
}
