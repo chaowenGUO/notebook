{
 "cells": [
  {
   "cell_type": "code",
   "execution_count": 1,
   "metadata": {},
   "outputs": [
    {
     "data": {
      "text/plain": [
       "(Б_t,)"
      ]
     },
     "execution_count": 1,
     "metadata": {},
     "output_type": "execute_result"
    }
   ],
   "source": [
    "import galgebra.ga, sympy\n",
    "t=sympy.symbols('t',real=True)\n",
    "x,y,z=sympy.symbols('x,y,z',cls=sympy.Function, real=True)\n",
    "curve=galgebra.ga.Ga('\\u0411',coords=(t,),X=[x(t),y(t),z(t)])\n",
    "curve.mv()#base of tangent space at t"
   ]
  },
  {
   "cell_type": "code",
   "execution_count": 2,
   "metadata": {},
   "outputs": [
    {
     "data": {
      "text/latex": [
       "$\\displaystyle \\left[\\begin{matrix}\\left(\\frac{d}{d t} x{\\left(t \\right)}\\right)^{2} + \\left(\\frac{d}{d t} y{\\left(t \\right)}\\right)^{2} + \\left(\\frac{d}{d t} z{\\left(t \\right)}\\right)^{2}\\end{matrix}\\right]$"
      ],
      "text/plain": [
       "Matrix([[D{t}x**2 + D{t}y**2 + D{t}z**2]])"
      ]
     },
     "execution_count": 2,
     "metadata": {},
     "output_type": "execute_result"
    }
   ],
   "source": [
    "curve.g"
   ]
  },
  {
   "cell_type": "code",
   "execution_count": 3,
   "metadata": {},
   "outputs": [
    {
     "data": {
      "text/latex": [
       "$\\displaystyle \\int \\sqrt{\\left|{\\left(\\frac{d}{d t} x{\\left(t \\right)}\\right)^{2} + \\left(\\frac{d}{d t} y{\\left(t \\right)}\\right)^{2} + \\left(\\frac{d}{d t} z{\\left(t \\right)}\\right)^{2}}\\right|}\\, dt$"
      ],
      "text/plain": [
       "Integral(sqrt(Abs(D{t}x**2 + D{t}y**2 + D{t}z**2)), t)"
      ]
     },
     "execution_count": 3,
     "metadata": {},
     "output_type": "execute_result"
    }
   ],
   "source": [
    "sympy.Integral(curve.E().norm(),t)#arclength"
   ]
  },
  {
   "cell_type": "code",
   "execution_count": 4,
   "metadata": {},
   "outputs": [
    {
     "data": {
      "text/plain": [
       "(Б_u, Б_v)"
      ]
     },
     "execution_count": 4,
     "metadata": {},
     "output_type": "execute_result"
    }
   ],
   "source": [
    "u,v=sympy.symbols('u,v',real=True)\n",
    "surface=galgebra.ga.Ga('\\u0411',coords=(u,v),X=[x(u,v),y(u,v),z(u,v)])\n",
    "surface.mv()#bases of tangent space at (u,v)"
   ]
  },
  {
   "cell_type": "code",
   "execution_count": 5,
   "metadata": {},
   "outputs": [
    {
     "data": {
      "text/latex": [
       "$\\displaystyle \\left[\\begin{matrix}\\left(\\frac{\\partial}{\\partial u} x{\\left(u,v \\right)}\\right)^{2} + \\left(\\frac{\\partial}{\\partial u} y{\\left(u,v \\right)}\\right)^{2} + \\left(\\frac{\\partial}{\\partial u} z{\\left(u,v \\right)}\\right)^{2} & \\frac{\\partial}{\\partial u} x{\\left(u,v \\right)} \\frac{\\partial}{\\partial v} x{\\left(u,v \\right)} + \\frac{\\partial}{\\partial u} y{\\left(u,v \\right)} \\frac{\\partial}{\\partial v} y{\\left(u,v \\right)} + \\frac{\\partial}{\\partial u} z{\\left(u,v \\right)} \\frac{\\partial}{\\partial v} z{\\left(u,v \\right)}\\\\\\frac{\\partial}{\\partial u} x{\\left(u,v \\right)} \\frac{\\partial}{\\partial v} x{\\left(u,v \\right)} + \\frac{\\partial}{\\partial u} y{\\left(u,v \\right)} \\frac{\\partial}{\\partial v} y{\\left(u,v \\right)} + \\frac{\\partial}{\\partial u} z{\\left(u,v \\right)} \\frac{\\partial}{\\partial v} z{\\left(u,v \\right)} & \\left(\\frac{\\partial}{\\partial v} x{\\left(u,v \\right)}\\right)^{2} + \\left(\\frac{\\partial}{\\partial v} y{\\left(u,v \\right)}\\right)^{2} + \\left(\\frac{\\partial}{\\partial v} z{\\left(u,v \\right)}\\right)^{2}\\end{matrix}\\right]$"
      ],
      "text/plain": [
       "Matrix([\n",
       "[         D{u}x**2 + D{u}y**2 + D{u}z**2, D{u}x*D{v}x + D{u}y*D{v}y + D{u}z*D{v}z],\n",
       "[D{u}x*D{v}x + D{u}y*D{v}y + D{u}z*D{v}z,          D{v}x**2 + D{v}y**2 + D{v}z**2]])"
      ]
     },
     "execution_count": 5,
     "metadata": {},
     "output_type": "execute_result"
    }
   ],
   "source": [
    "surface.g"
   ]
  },
  {
   "cell_type": "code",
   "execution_count": 6,
   "metadata": {},
   "outputs": [
    {
     "data": {
      "text/latex": [
       "$\\displaystyle \\iint \\sqrt{\\left|{\\left(\\frac{\\partial}{\\partial u} x{\\left(u,v \\right)}\\right)^{2} \\left(\\frac{\\partial}{\\partial v} y{\\left(u,v \\right)}\\right)^{2} + \\left(\\frac{\\partial}{\\partial u} x{\\left(u,v \\right)}\\right)^{2} \\left(\\frac{\\partial}{\\partial v} z{\\left(u,v \\right)}\\right)^{2} - 2 \\frac{\\partial}{\\partial u} x{\\left(u,v \\right)} \\frac{\\partial}{\\partial v} x{\\left(u,v \\right)} \\frac{\\partial}{\\partial u} y{\\left(u,v \\right)} \\frac{\\partial}{\\partial v} y{\\left(u,v \\right)} - 2 \\frac{\\partial}{\\partial u} x{\\left(u,v \\right)} \\frac{\\partial}{\\partial v} x{\\left(u,v \\right)} \\frac{\\partial}{\\partial u} z{\\left(u,v \\right)} \\frac{\\partial}{\\partial v} z{\\left(u,v \\right)} + \\left(\\frac{\\partial}{\\partial v} x{\\left(u,v \\right)}\\right)^{2} \\left(\\frac{\\partial}{\\partial u} y{\\left(u,v \\right)}\\right)^{2} + \\left(\\frac{\\partial}{\\partial v} x{\\left(u,v \\right)}\\right)^{2} \\left(\\frac{\\partial}{\\partial u} z{\\left(u,v \\right)}\\right)^{2} + \\left(\\frac{\\partial}{\\partial u} y{\\left(u,v \\right)}\\right)^{2} \\left(\\frac{\\partial}{\\partial v} z{\\left(u,v \\right)}\\right)^{2} - 2 \\frac{\\partial}{\\partial u} y{\\left(u,v \\right)} \\frac{\\partial}{\\partial v} y{\\left(u,v \\right)} \\frac{\\partial}{\\partial u} z{\\left(u,v \\right)} \\frac{\\partial}{\\partial v} z{\\left(u,v \\right)} + \\left(\\frac{\\partial}{\\partial v} y{\\left(u,v \\right)}\\right)^{2} \\left(\\frac{\\partial}{\\partial u} z{\\left(u,v \\right)}\\right)^{2}}\\right|}\\, du\\, dv$"
      ],
      "text/plain": [
       "Integral(sqrt(Abs(D{u}x**2*D{v}y**2 + D{u}x**2*D{v}z**2 - 2*D{u}x*D{v}x*D{u}y*D{v}y - 2*D{u}x*D{v}x*D{u}z*D{v}z + D{v}x**2*D{u}y**2 + D{v}x**2*D{u}z**2 + D{u}y**2*D{v}z**2 - 2*D{u}y*D{v}y*D{u}z*D{v}z + D{v}y**2*D{u}z**2)), u, v)"
      ]
     },
     "execution_count": 6,
     "metadata": {},
     "output_type": "execute_result"
    }
   ],
   "source": [
    "sympy.Integral(surface.E().norm(),u,v)"
   ]
  },
  {
   "cell_type": "code",
   "execution_count": 7,
   "metadata": {},
   "outputs": [
    {
     "data": {
      "text/latex": [
       "$\\displaystyle 4 \\pi$"
      ],
      "text/plain": [
       "4*pi"
      ]
     },
     "execution_count": 7,
     "metadata": {},
     "output_type": "execute_result"
    }
   ],
   "source": [
    "zenith,azimuth=sympy.symbols('theta,phi',positive=True)\n",
    "spherical=galgebra.ga.Ga('\\u0411',coords=(zenith,azimuth),X=[sympy.sin(zenith)*sympy.cos(azimuth),sympy.sin(zenith)*sympy.sin(azimuth),sympy.cos(zenith)])\n",
    "sympy.integrate(spherical.E().norm(),(azimuth,0,2*sympy.pi),(zenith,0,sympy.pi))"
   ]
  },
  {
   "cell_type": "code",
   "execution_count": 8,
   "metadata": {},
   "outputs": [
    {
     "data": {
      "text/plain": [
       "(Б_u, Б_v, Б_w)"
      ]
     },
     "execution_count": 8,
     "metadata": {},
     "output_type": "execute_result"
    }
   ],
   "source": [
    "u,v,w=sympy.symbols('u,v,w',real=True)\n",
    "solid=galgebra.ga.Ga('\\u0411',coords=(u,v,w),X=[x(u,v,w),y(u,v,w),z(u,v,w)])\n",
    "solid.mv()#bases of tangent space at (u,v,w)"
   ]
  },
  {
   "cell_type": "code",
   "execution_count": 9,
   "metadata": {},
   "outputs": [
    {
     "data": {
      "text/latex": [
       "$\\displaystyle \\left[\\begin{matrix}\\left(\\frac{\\partial}{\\partial u} x{\\left(u,v,w \\right)}\\right)^{2} + \\left(\\frac{\\partial}{\\partial u} y{\\left(u,v,w \\right)}\\right)^{2} + \\left(\\frac{\\partial}{\\partial u} z{\\left(u,v,w \\right)}\\right)^{2} & \\frac{\\partial}{\\partial u} x{\\left(u,v,w \\right)} \\frac{\\partial}{\\partial v} x{\\left(u,v,w \\right)} + \\frac{\\partial}{\\partial u} y{\\left(u,v,w \\right)} \\frac{\\partial}{\\partial v} y{\\left(u,v,w \\right)} + \\frac{\\partial}{\\partial u} z{\\left(u,v,w \\right)} \\frac{\\partial}{\\partial v} z{\\left(u,v,w \\right)} & \\frac{\\partial}{\\partial u} x{\\left(u,v,w \\right)} \\frac{\\partial}{\\partial w} x{\\left(u,v,w \\right)} + \\frac{\\partial}{\\partial u} y{\\left(u,v,w \\right)} \\frac{\\partial}{\\partial w} y{\\left(u,v,w \\right)} + \\frac{\\partial}{\\partial u} z{\\left(u,v,w \\right)} \\frac{\\partial}{\\partial w} z{\\left(u,v,w \\right)}\\\\\\frac{\\partial}{\\partial u} x{\\left(u,v,w \\right)} \\frac{\\partial}{\\partial v} x{\\left(u,v,w \\right)} + \\frac{\\partial}{\\partial u} y{\\left(u,v,w \\right)} \\frac{\\partial}{\\partial v} y{\\left(u,v,w \\right)} + \\frac{\\partial}{\\partial u} z{\\left(u,v,w \\right)} \\frac{\\partial}{\\partial v} z{\\left(u,v,w \\right)} & \\left(\\frac{\\partial}{\\partial v} x{\\left(u,v,w \\right)}\\right)^{2} + \\left(\\frac{\\partial}{\\partial v} y{\\left(u,v,w \\right)}\\right)^{2} + \\left(\\frac{\\partial}{\\partial v} z{\\left(u,v,w \\right)}\\right)^{2} & \\frac{\\partial}{\\partial v} x{\\left(u,v,w \\right)} \\frac{\\partial}{\\partial w} x{\\left(u,v,w \\right)} + \\frac{\\partial}{\\partial v} y{\\left(u,v,w \\right)} \\frac{\\partial}{\\partial w} y{\\left(u,v,w \\right)} + \\frac{\\partial}{\\partial v} z{\\left(u,v,w \\right)} \\frac{\\partial}{\\partial w} z{\\left(u,v,w \\right)}\\\\\\frac{\\partial}{\\partial u} x{\\left(u,v,w \\right)} \\frac{\\partial}{\\partial w} x{\\left(u,v,w \\right)} + \\frac{\\partial}{\\partial u} y{\\left(u,v,w \\right)} \\frac{\\partial}{\\partial w} y{\\left(u,v,w \\right)} + \\frac{\\partial}{\\partial u} z{\\left(u,v,w \\right)} \\frac{\\partial}{\\partial w} z{\\left(u,v,w \\right)} & \\frac{\\partial}{\\partial v} x{\\left(u,v,w \\right)} \\frac{\\partial}{\\partial w} x{\\left(u,v,w \\right)} + \\frac{\\partial}{\\partial v} y{\\left(u,v,w \\right)} \\frac{\\partial}{\\partial w} y{\\left(u,v,w \\right)} + \\frac{\\partial}{\\partial v} z{\\left(u,v,w \\right)} \\frac{\\partial}{\\partial w} z{\\left(u,v,w \\right)} & \\left(\\frac{\\partial}{\\partial w} x{\\left(u,v,w \\right)}\\right)^{2} + \\left(\\frac{\\partial}{\\partial w} y{\\left(u,v,w \\right)}\\right)^{2} + \\left(\\frac{\\partial}{\\partial w} z{\\left(u,v,w \\right)}\\right)^{2}\\end{matrix}\\right]$"
      ],
      "text/plain": [
       "Matrix([\n",
       "[         D{u}x**2 + D{u}y**2 + D{u}z**2, D{u}x*D{v}x + D{u}y*D{v}y + D{u}z*D{v}z, D{u}x*D{w}x + D{u}y*D{w}y + D{u}z*D{w}z],\n",
       "[D{u}x*D{v}x + D{u}y*D{v}y + D{u}z*D{v}z,          D{v}x**2 + D{v}y**2 + D{v}z**2, D{v}x*D{w}x + D{v}y*D{w}y + D{v}z*D{w}z],\n",
       "[D{u}x*D{w}x + D{u}y*D{w}y + D{u}z*D{w}z, D{v}x*D{w}x + D{v}y*D{w}y + D{v}z*D{w}z,          D{w}x**2 + D{w}y**2 + D{w}z**2]])"
      ]
     },
     "execution_count": 9,
     "metadata": {},
     "output_type": "execute_result"
    }
   ],
   "source": [
    "solid.g"
   ]
  },
  {
   "cell_type": "code",
   "execution_count": 10,
   "metadata": {},
   "outputs": [
    {
     "data": {
      "text/latex": [
       "$\\displaystyle \\iiint \\left(\\frac{\\partial}{\\partial u} x{\\left(u,v,w \\right)} \\frac{\\partial}{\\partial v} y{\\left(u,v,w \\right)} \\frac{\\partial}{\\partial w} z{\\left(u,v,w \\right)} - \\frac{\\partial}{\\partial u} x{\\left(u,v,w \\right)} \\frac{\\partial}{\\partial w} y{\\left(u,v,w \\right)} \\frac{\\partial}{\\partial v} z{\\left(u,v,w \\right)} - \\frac{\\partial}{\\partial v} x{\\left(u,v,w \\right)} \\frac{\\partial}{\\partial u} y{\\left(u,v,w \\right)} \\frac{\\partial}{\\partial w} z{\\left(u,v,w \\right)} + \\frac{\\partial}{\\partial v} x{\\left(u,v,w \\right)} \\frac{\\partial}{\\partial w} y{\\left(u,v,w \\right)} \\frac{\\partial}{\\partial u} z{\\left(u,v,w \\right)} + \\frac{\\partial}{\\partial w} x{\\left(u,v,w \\right)} \\frac{\\partial}{\\partial u} y{\\left(u,v,w \\right)} \\frac{\\partial}{\\partial v} z{\\left(u,v,w \\right)} - \\frac{\\partial}{\\partial w} x{\\left(u,v,w \\right)} \\frac{\\partial}{\\partial v} y{\\left(u,v,w \\right)} \\frac{\\partial}{\\partial u} z{\\left(u,v,w \\right)}\\right)\\, du\\, dv\\, dw$"
      ],
      "text/plain": [
       "Integral(D{u}x*D{v}y*D{w}z - D{u}x*D{w}y*D{v}z - D{v}x*D{u}y*D{w}z + D{v}x*D{w}y*D{u}z + D{w}x*D{u}y*D{v}z - D{w}x*D{v}y*D{u}z, u, v, w)"
      ]
     },
     "execution_count": 10,
     "metadata": {},
     "output_type": "execute_result"
    }
   ],
   "source": [
    "sympy.Integral(solid.E().norm(),u,v,w)"
   ]
  },
  {
   "cell_type": "code",
   "execution_count": 11,
   "metadata": {},
   "outputs": [
    {
     "data": {
      "text/latex": [
       "$\\displaystyle \\frac{4 \\pi}{3}$"
      ],
      "text/plain": [
       "4*pi/3"
      ]
     },
     "execution_count": 11,
     "metadata": {},
     "output_type": "execute_result"
    }
   ],
   "source": [
    "radius,zenith,azimuth=sympy.symbols('r,theta,phi',positive=True)\n",
    "sphere=galgebra.ga.Ga('\\u0411',coords=(radius,zenith,azimuth),X=[radius*sympy.sin(zenith)*sympy.cos(azimuth),radius*sympy.sin(zenith)*sympy.sin(azimuth),radius*sympy.cos(zenith)])\n",
    "sympy.integrate(sphere.E().norm(),(azimuth,0,2*sympy.pi),(zenith,0,sympy.pi),(radius,0,1))"
   ]
  }
 ],
 "metadata": {
  "kernelspec": {
   "display_name": "Python 3",
   "language": "python",
   "name": "python3"
  },
  "language_info": {
   "codemirror_mode": {
    "name": "ipython",
    "version": 3
   },
   "file_extension": ".py",
   "mimetype": "text/x-python",
   "name": "python",
   "nbconvert_exporter": "python",
   "pygments_lexer": "ipython3",
   "version": "3.8.2"
  },
  "latex_envs": {
   "bibliofile": "biblio.bib",
   "cite_by": "apalike",
   "current_citInitial": 1,
   "eqLabelWithNumbers": true,
   "eqNumInitial": 0
  },
  "widgets": {
   "state": {},
   "version": "1.1.2"
  }
 },
 "nbformat": 4,
 "nbformat_minor": 1
}
