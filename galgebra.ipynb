{
 "cells": [
  {
   "cell_type": "code",
   "execution_count": 2,
   "metadata": {
    "collapsed": false
   },
   "outputs": [
    {
     "data": {
      "text/latex": [
       "\\begin{equation*} \\cos{\\left (\\theta  \\right )} \\boldsymbol{Б}_{1} + \\sin{\\left (\\theta  \\right )} \\boldsymbol{Б}_{2} \\end{equation*}"
      ],
      "text/plain": [
       "cos(theta)*Б_1 + sin(theta)*Б_2"
      ]
     },
     "execution_count": 2,
     "metadata": {},
     "output_type": "execute_result"
    }
   ],
   "source": [
    "import sympy.ga\n",
    "base=sympy.ga.Ga('\\u0411*1|2',g=[1,1])\n",
    "theta=sympy.symbols('theta')\n",
    "base.mv()[0].rotate_multivector(theta*base.I())"
   ]
  },
  {
   "cell_type": "markdown",
   "metadata": {},
   "source": [
    "number of bases in grade m of n dimension is $C^m_n$\n",
    "\n",
    "total number of bases for n dimension is $2^n$\n",
    "\n",
    "$\\overleftrightarrow{a}_r\\wedge\\overleftrightarrow{b}_s=(-1)^{rs}\\overleftrightarrow{b}_s\\wedge\\overleftrightarrow{a}_r$\n",
    "\n",
    "$\\vec{a}\\wedge\\overleftrightarrow{b}_r=\\vec{a}\\overleftrightarrow{b}_r-\\vec{a}\\cdot\\overleftrightarrow{b}_r$\n",
    "\n",
    "if $\\overleftrightarrow{v}^\\dagger\\overleftrightarrow{v}$ is real number, then $\\overleftrightarrow{v}^{-1}=\\dfrac{\\overleftrightarrow{v}^\\dagger}{\\overleftrightarrow{v}^\\dagger\\overleftrightarrow{v}}$\n",
    "\n",
    "unit pseudoscalar $\\overleftrightarrow{\\unicode{x21a5}}=\\dfrac{\\bigwedge\\limits_{\\unicode{x0434}=1}^{\\dim}\\vec{\\unicode{x0411}_\\unicode{x0434}}}{\\|\\bigwedge\\limits_{\\unicode{x0434}=1}^{\\dim}\\vec{\\unicode{x0411}_\\unicode{x0434}}\\|}$\n",
    "\n",
    "Hypervolume of an n-parallelotope spanned by n vectors $\\bigwedge\\limits_{\\alpha=1}^n\\vec{v}_\\alpha$\n",
    "\n",
    "$\\lrcorner$\n",
    "\n",
    "子空间垂直内积=0，子空间包含$\\wedge$=0"
   ]
  },
  {
   "cell_type": "code",
   "execution_count": 5,
   "metadata": {
    "collapsed": false
   },
   "outputs": [
    {
     "data": {
      "text/latex": [
       "\\begin{equation*} 1 \\end{equation*}"
      ],
      "text/plain": [
       "1"
      ]
     },
     "execution_count": 5,
     "metadata": {},
     "output_type": "execute_result"
    }
   ],
   "source": [
    "sympy.ga.mv.exp(theta/2*base.I())*sympy.ga.mv.exp(-theta/2*base.I())"
   ]
  },
  {
   "cell_type": "code",
   "execution_count": 8,
   "metadata": {
    "collapsed": false
   },
   "outputs": [
    {
     "data": {
      "text/latex": [
       "\\begin{equation*} \\left ( - 2 a^{2} b^{12} - 2 a^{3} b^{13}\\right ) \\boldsymbol{Б}_{1} + \\left ( 2 a^{1} b^{12} - 2 a^{3} b^{23}\\right ) \\boldsymbol{Б}_{2} + \\left ( 2 a^{1} b^{13} + 2 a^{2} b^{23}\\right ) \\boldsymbol{Б}_{3} \\end{equation*}"
      ],
      "text/plain": [
       "(-2*a__2*b__12 - 2*a__3*b__13)*Б_1 + (2*a__1*b__12 - 2*a__3*b__23)*Б_2 + (2*a__1*b__13 + 2*a__2*b__23)*Б_3"
      ]
     },
     "execution_count": 8,
     "metadata": {},
     "output_type": "execute_result"
    }
   ],
   "source": [
    "b=base.mv('b','bivector')\n",
    "a=base.mv('a','vector')\n",
    "a*b-b*a"
   ]
  },
  {
   "cell_type": "markdown",
   "metadata": {},
   "source": [
    "$\\vec{v}\\cdot\\overleftrightarrow{a^\\alpha}=\\dfrac{\\vec{v}\\overleftrightarrow{a^\\alpha}-(-1)^\\alpha\\overleftrightarrow{a^\\alpha}\\vec{v}}{2}=(-1)^{\\alpha+1}\\overleftrightarrow{a^\\alpha}\\cdot\\vec{v}$\n",
    "\n",
    "$\\vec{v}\\wedge\\overleftrightarrow{a^\\alpha}=\\dfrac{\\vec{v}\\overleftrightarrow{a^\\alpha}+(-1)^\\alpha\\overleftrightarrow{a^\\alpha}\\vec{v}}{2}=(-1)^\\alpha\\overleftrightarrow{a^\\alpha}\\wedge\\vec{v}$\n",
    "\n",
    "nonzero complex number must has a multiplicative inverse but matrix and multivector do not. Complex number, matrix and multivector, if $AB=AC$ and $A^{-1}$ exist, then $B=C$. But blade must has a multiplicative inverse $\\overleftrightarrow{v^\\alpha}^{-1}=\\dfrac{\\overleftrightarrow{v^\\alpha}^\\dagger}{\\overleftrightarrow{v^\\alpha}\\overleftrightarrow{v^\\alpha}^\\dagger}$\n",
    "\n",
    "both matrix and multivector are noncommutivity\n",
    "\n",
    "geometric product, inner product and wedge product satisfy distributive law\n",
    "\n",
    "geometric product and wedge product satisfy associative law P7 1.25\n",
    "\n",
    "$\\vec{a}\\wedge\\vec{b}$ is 2-blade $\\vec{a}\\wedge\\vec{b}+\\vec{a}\\wedge\\vec{c}+\\vec{b}\\wedge\\vec{c}$ is 2-vector\n",
    "\n",
    "P43 1.15 1.16 1.18\n",
    "\n",
    "$\\overleftrightarrow{a^\\alpha}\\cdot\\overleftrightarrow{b^\\beta}=\\langle\\overleftrightarrow{a^\\alpha}\\overleftrightarrow{b^\\beta}\\rangle_{|\\alpha-\\beta|}$\n",
    "\n",
    "$\\overleftrightarrow{a^\\alpha}\\wedge\\overleftrightarrow{b^\\beta}=\\langle\\overleftrightarrow{a^\\alpha}\\overleftrightarrow{b^\\beta}\\rangle_{\\alpha+\\beta}$\n",
    "\n",
    "reverse $\\overleftrightarrow{v}^\\dagger=\\sum\\limits_r(-1)^{\\tfrac{r(r-1)}{2}}<\\overleftrightarrow{v}>_r$\n",
    "\n",
    "$(\\vec{v}_1\\vec{v}_2\\cdots\\vec{v}_N)^\\dagger=\\vec{v}_N\\cdots\\vec{v}_2\\vec{v}_1$\n",
    "\n",
    "$(\\overleftrightarrow{a}\\overleftrightarrow{b})^\\dagger=\\overleftrightarrow{b}^\\dagger\\overleftrightarrow{a}^\\dagger$\n",
    "\n",
    "$(\\overleftrightarrow{a}+\\overleftrightarrow{b})^\\dagger=\\overleftrightarrow{a}^\\dagger+\\overleftrightarrow{b}^\\dagger$\n",
    "\n",
    "norm $\\|\\overleftrightarrow{v}\\|=<\\overleftrightarrow{v}^\\dagger\\overleftrightarrow{v}>$"
   ]
  },
  {
   "cell_type": "code",
   "execution_count": 6,
   "metadata": {
    "collapsed": false
   },
   "outputs": [
    {
     "data": {
      "text/latex": [
       "$$\\sqrt{\\left\\lvert{(a.a) (b.b) - (a.b)^{2}}\\right\\rvert}$$"
      ],
      "text/plain": [
       "   ________________________\n",
       "  ╱ │                   2│ \n",
       "╲╱  │(a.a)⋅(b.b) - (a.b) │ "
      ]
     },
     "execution_count": 6,
     "metadata": {},
     "output_type": "execute_result"
    }
   ],
   "source": [
    "(a,b) = sympy.galgebra.MV.setup('a b')\n",
    "(a^b).norm()"
   ]
  },
  {
   "cell_type": "markdown",
   "metadata": {},
   "source": [
    "$(\\overleftrightarrow{a^\\alpha}\\wedge\\vec{v})\\cdot\\overleftrightarrow{b^\\beta}=\\overleftrightarrow{a^\\alpha}\\cdot(\\vec{v}\\cdot\\overleftrightarrow{b^\\beta}) \\alpha<\\beta$ change the last vector of left to right P7 1.23 1.25\n",
    "\n",
    "$\\vec{v}\\overleftrightarrow{a^\\alpha}=\\vec{v}\\cdot\\overleftrightarrow{a^\\alpha}+\\vec{v}\\wedge\\overleftrightarrow{a^\\alpha}$\n",
    "\n",
    "$\\vec{a}\\cdot(\\vec{v}_1\\wedge\\vec{v}_2\\wedge\\cdots\\wedge\\vec{v}_N)=\\sum\\limits_{\\alpha=1}^N(-1)^{\\alpha+1}\\vec{a}\\cdot\\vec{v}_\\alpha\\vec{v}_1\\wedge\\vec{v}_2\\wedge\\cdots\\wedge\\vec{v}_{\\alpha-1}\\wedge\\vec{v}_{\\alpha+1}\\wedge\\cdots\\wedge\\vec{v}_N$ use to expand inner product between vector and blade\n",
    "\n",
    "$\\vec{a}\\wedge\\vec{b}=\\vec{a}\\vec{b}-\\vec{a}\\cdot\\vec{b}$"
   ]
  },
  {
   "cell_type": "markdown",
   "metadata": {},
   "source": [
    "$\\vec{a}\\vec{b}\\vec{c}\\vec{d}\n",
    "=\\vec{a}\\vec{b}(\\vec{c}\\cdot\\vec{d}+\\vec{c}\\wedge\\vec{d})\n",
    "=\\vec{a}\\vec{b}\\vec{c}\\cdot\\vec{d}+\\vec{a}\\vec{b}\\vec{c}\\wedge\\vec{d}\n",
    "=(\\vec{a}\\cdot\\vec{b}+\\vec{a}\\wedge\\vec{b})\\vec{c}\\cdot\\vec{d}+\\vec{a}[\\vec{b}\\cdot(\\vec{c}\\wedge\\vec{d})+\\vec{b}\\wedge\\vec{c}\\wedge\\vec{d}]\n",
    "=\\vec{a}\\cdot\\vec{b}\\vec{c}\\cdot\\vec{d}+\\vec{c}\\cdot\\vec{d}\\vec{a}\\wedge\\vec{b}+\\vec{a}(\\vec{b}\\cdot\\vec{c}\\vec{d}-\\vec{b}\\cdot\\vec{d}\\vec{c}+\\vec{b}\\wedge\\vec{c}\\wedge\\vec{d})\n",
    "=\\vec{a}\\cdot\\vec{b}\\vec{c}\\cdot\\vec{d}+\\vec{c}\\cdot\\vec{d}\\vec{a}\\wedge\\vec{b}+\\vec{a}\\vec{b}\\cdot\\vec{c}\\vec{d}-\\vec{a}\\vec{b}\\cdot\\vec{d}\\vec{c}+\\vec{a}\\vec{b}\\wedge\\vec{c}\\wedge\\vec{d}\n",
    "=\\vec{a}\\cdot\\vec{b}\\vec{c}\\cdot\\vec{d}+\\vec{c}\\cdot\\vec{d}\\vec{a}\\wedge\\vec{b}+\\vec{a}\\cdot\\vec{d}\\vec{b}\\cdot\\vec{c}+\\vec{b}\\cdot\\vec{c}\\vec{a}\\wedge\\vec{d}-\\vec{a}\\cdot\\vec{c}\\vec{b}\\cdot\\vec{d}-\\vec{b}\\cdot\\vec{d}\\vec{a}\\wedge\\vec{c}+\\vec{a}\\cdot(\\vec{b}\\wedge\\vec{c}\\wedge\\vec{d})+\\vec{a}\\wedge\\vec{b}\\wedge\\vec{c}\\wedge\\vec{d}\n",
    "=\\vec{a}\\cdot\\vec{b}\\vec{c}\\cdot\\vec{d}+\\vec{c}\\cdot\\vec{d}\\vec{a}\\wedge\\vec{b}+\\vec{a}\\cdot\\vec{d}\\vec{b}\\cdot\\vec{c}+\\vec{b}\\cdot\\vec{c}\\vec{a}\\wedge\\vec{d}-\\vec{a}\\cdot\\vec{c}\\vec{b}\\cdot\\vec{d}-\\vec{b}\\cdot\\vec{d}\\vec{a}\\wedge\\vec{c}+\\vec{a}\\cdot\\vec{b}\\vec{c}\\wedge\\vec{d}-\\vec{a}\\cdot\\vec{c}\\vec{b}\\wedge\\vec{d}+\\vec{a}\\cdot\\vec{d}\\vec{b}\\wedge\\vec{c}+\\vec{a}\\wedge\\vec{b}\\wedge\\vec{c}\\wedge\\vec{d}$"
   ]
  },
  {
   "cell_type": "markdown",
   "metadata": {},
   "source": [
    "$(\\vec{a}\\wedge\\vec{b}\\wedge\\vec{c})\\cdot(\\vec{d}\\wedge\\vec{e})\n",
    "=(-1)^{2\\times(3-1)}(\\vec{d}\\wedge\\vec{e})\\cdot(\\vec{a}\\wedge\\vec{b}\\wedge\\vec{c})\n",
    "=\\vec{d}\\cdot[\\vec{e}\\cdot(\\vec{a}\\wedge\\vec{b}\\wedge\\vec{c})]\n",
    "=\\vec{d}\\cdot(\\vec{e}\\cdot\\vec{a}\\vec{b}\\wedge\\vec{c}-\\vec{e}\\cdot\\vec{b}\\vec{a}\\wedge\\vec{c}+\\vec{e}\\cdot\\vec{c}\\vec{a}\\wedge\\vec{b})\n",
    "=\\vec{e}\\cdot\\vec{a}\\vec{d}\\cdot(\\vec{b}\\wedge\\vec{c})-\\vec{e}\\cdot\\vec{b}\\vec{d}\\cdot(\\vec{a}\\wedge\\vec{c})+\\vec{e}\\cdot\\vec{c}\\vec{d}\\cdot(\\vec{a}\\wedge\\vec{b})\n",
    "=\\vec{e}\\cdot\\vec{a}(\\vec{d}\\cdot\\vec{b}\\vec{c}-\\vec{d}\\cdot\\vec{c}\\vec{b})-\\vec{e}\\cdot\\vec{b}(\\vec{d}\\cdot\\vec{a}\\vec{c}-\\vec{d}\\cdot\\vec{c}\\vec{a})+\\vec{e}\\cdot\\vec{c}(\\vec{d}\\cdot\\vec{a}\\vec{b}-\\vec{d}\\cdot\\vec{b}\\vec{a})\n",
    "=(\\vec{e}\\cdot\\vec{b}\\vec{d}\\cdot\\vec{c}-\\vec{e}\\cdot\\vec{c}\\vec{d}\\cdot\\vec{b})\\vec{a}+(\\vec{e}\\cdot\\vec{c}\\vec{d}\\cdot\\vec{a}-\\vec{e}\\cdot\\vec{a}\\vec{d}\\cdot\\vec{c})\\vec{b}+(\\vec{e}\\cdot\\vec{a}\\vec{d}\\cdot\\vec{b}-\\vec{e}\\cdot\\vec{b}\\vec{d}\\cdot\\vec{a})\\vec{c}$"
   ]
  },
  {
   "cell_type": "markdown",
   "metadata": {},
   "source": [
    "$\\vec{a}\\wedge\\vec{b}\\vec{c}\\wedge\\vec{d}\n",
    "=(\\vec{a}\\vec{b}-\\vec{a}\\cdot\\vec{b})\\vec{c}\\wedge\\vec{d}\n",
    "=\\vec{a}\\vec{b}\\vec{c}\\wedge\\vec{d}-\\vec{a}\\cdot\\vec{b}\\vec{c}\\wedge\\vec{d}\n",
    "=\\vec{a}[\\vec{b}\\cdot(\\vec{c}\\wedge\\vec{d})+\\vec{b}\\wedge\\vec{c}\\wedge\\vec{d}]-\\vec{a}\\cdot\\vec{b}\\vec{c}\\wedge\\vec{d}\n",
    "=\\vec{a}(\\vec{b}\\cdot\\vec{c}\\vec{d}-\\vec{b}\\cdot\\vec{d}\\vec{c})+\\vec{a}\\vec{b}\\wedge\\vec{c}\\wedge\\vec{d}-\\vec{a}\\cdot\\vec{b}\\vec{c}\\wedge\\vec{d}\n",
    "=\\vec{b}\\cdot\\vec{c}\\vec{a}\\vec{d}-\\vec{b}\\cdot\\vec{d}\\vec{a}\\vec{c}+\\vec{a}\\cdot(\\vec{b}\\wedge\\vec{c}\\wedge\\vec{d})+\\vec{a}\\wedge\\vec{b}\\wedge\\vec{c}\\wedge\\vec{d}-\\vec{a}\\cdot\\vec{b}\\vec{c}\\wedge\\vec{d}\n",
    "=\\vec{b}\\cdot\\vec{c}(\\vec{a}\\cdot\\vec{d}+\\vec{a}\\wedge\\vec{d})-\\vec{b}\\cdot\\vec{d}(\\vec{a}\\cdot\\vec{c}+\\vec{a}\\wedge\\vec{c})-\\vec{a}\\cdot\\vec{c}\\vec{b}\\wedge\\vec{d}+\\vec{a}\\cdot\\vec{d}\\vec{b}\\wedge\\vec{c}+\\vec{a}\\wedge\\vec{b}\\wedge\\vec{c}\\wedge\\vec{d}$"
   ]
  },
  {
   "cell_type": "markdown",
   "metadata": {},
   "source": [
    "dual: unit pseudoscalar times multivector\n",
    "\n",
    "P65 4.3 appendix a 球面三角\n",
    "\n",
    "$\\det(A)=(\\bigwedge\\limits_{\\unicode{x0434}=1}^{\\dim}\\vec{\\unicode{x0411}_\\unicode{x0434}})^{-1}A(\\bigwedge\\limits_{\\unicode{x0434}=1}^{\\dim}\\vec{\\unicode{x0411}_\\unicode{x0434}})$\n",
    "\n",
    "$T(a\\overleftrightarrow{a}\\wedge b\\overleftrightarrow{a})=a(T\\overleftrightarrow{a})\\wedge b(T\\overleftrightarrow{a})$\n",
    "\n",
    "angle between subspace $\\arccos\\dfrac{\\|\\overleftrightarrow{a^\\alpha}\\cdot\\overleftrightarrow{b^\\beta}\\|}{\\|\\overleftrightarrow{a^\\alpha}\\|\\|\\overleftrightarrow{b^\\beta}\\|}$"
   ]
  },
  {
   "cell_type": "code",
   "execution_count": 4,
   "metadata": {
    "collapsed": false
   },
   "outputs": [
    {
     "data": {
      "text/latex": [
       "\\begin{equation*} - \\left ( a\\cdot c\\right )  \\boldsymbol{a}\\wedge \\boldsymbol{b} + \\left ( a\\cdot b\\right )  \\boldsymbol{a}\\wedge \\boldsymbol{c} \\end{equation*}"
      ],
      "text/plain": [
       "-(a.c)*a^b + (a.b)*a^c"
      ]
     },
     "execution_count": 4,
     "metadata": {},
     "output_type": "execute_result"
    }
   ],
   "source": [
    "import sympy.ga\n",
    "a,b,c=sympy.ga.Ga('a,b,c').mv()\n",
    "a^(a|(b^c))"
   ]
  },
  {
   "cell_type": "code",
   "execution_count": null,
   "metadata": {
    "collapsed": false
   },
   "outputs": [],
   "source": []
  }
 ],
 "metadata": {
  "kernelspec": {
   "display_name": "Python 3",
   "language": "python",
   "name": "python3"
  },
  "language_info": {
   "codemirror_mode": {
    "name": "ipython",
    "version": 3
   },
   "file_extension": ".py",
   "mimetype": "text/x-python",
   "name": "python",
   "nbconvert_exporter": "python",
   "pygments_lexer": "ipython3",
   "version": "3.5.2"
  },
  "latex_envs": {
   "bibliofile": "biblio.bib",
   "cite_by": "apalike",
   "current_citInitial": 1,
   "eqLabelWithNumbers": true,
   "eqNumInitial": 0
  },
  "widgets": {
   "state": {},
   "version": "1.1.2"
  }
 },
 "nbformat": 4,
 "nbformat_minor": 0
}
