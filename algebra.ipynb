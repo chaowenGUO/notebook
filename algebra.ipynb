{
 "cells": [
  {
   "cell_type": "code",
   "execution_count": 1,
   "metadata": {},
   "outputs": [
    {
     "data": {
      "text/latex": [
       "\\begin{equation*} - \\left (\\boldsymbol{a}\\cdot \\boldsymbol{c}\\right )  \\boldsymbol{b} + \\left (\\boldsymbol{a}\\cdot \\boldsymbol{b}\\right )  \\boldsymbol{c} \\end{equation*}"
      ],
      "text/plain": [
       "-(a.c)*b + (a.b)*c"
      ]
     },
     "execution_count": 1,
     "metadata": {},
     "output_type": "execute_result"
    }
   ],
   "source": [
    "import galgebra.ga\n",
    "a, b, c, d = galgebra.ga.Ga('a,b,c,d').mv()\n",
    "a|(b*c)"
   ]
  },
  {
   "cell_type": "code",
   "execution_count": 2,
   "metadata": {},
   "outputs": [
    {
     "data": {
      "text/latex": [
       "\\begin{equation*} - \\left (\\boldsymbol{a}\\cdot \\boldsymbol{c}\\right )  \\boldsymbol{b} + \\left (\\boldsymbol{a}\\cdot \\boldsymbol{b}\\right )  \\boldsymbol{c} \\end{equation*}"
      ],
      "text/plain": [
       "-(a.c)*b + (a.b)*c"
      ]
     },
     "execution_count": 2,
     "metadata": {},
     "output_type": "execute_result"
    }
   ],
   "source": [
    "a|(b^c)"
   ]
  },
  {
   "cell_type": "code",
   "execution_count": 3,
   "metadata": {},
   "outputs": [
    {
     "data": {
      "text/latex": [
       "\\begin{equation*} \\left (\\boldsymbol{a}\\cdot \\boldsymbol{d}\\right )  \\boldsymbol{b}\\wedge \\boldsymbol{c} - \\left (\\boldsymbol{a}\\cdot \\boldsymbol{c}\\right )  \\boldsymbol{b}\\wedge \\boldsymbol{d} + \\left (\\boldsymbol{a}\\cdot \\boldsymbol{b}\\right )  \\boldsymbol{c}\\wedge \\boldsymbol{d} \\end{equation*}"
      ],
      "text/plain": [
       "(a.d)*b^c - (a.c)*b^d + (a.b)*c^d"
      ]
     },
     "execution_count": 3,
     "metadata": {},
     "output_type": "execute_result"
    }
   ],
   "source": [
    "a|(b^c^d)"
   ]
  },
  {
   "cell_type": "code",
   "execution_count": 4,
   "metadata": {},
   "outputs": [
    {
     "data": {
      "text/latex": [
       "\\begin{equation*}  0  \\end{equation*}"
      ],
      "text/plain": [
       "0"
      ]
     },
     "execution_count": 4,
     "metadata": {},
     "output_type": "execute_result"
    }
   ],
   "source": [
    "((a|(b^c))+(c|(a^b))+(b|(c^a))).simplify()"
   ]
  },
  {
   "cell_type": "code",
   "execution_count": 5,
   "metadata": {},
   "outputs": [
    {
     "data": {
      "text/latex": [
       "\\begin{equation*} 3 \\boldsymbol{a}\\wedge \\boldsymbol{b}\\wedge \\boldsymbol{c} \\end{equation*}"
      ],
      "text/plain": [
       "3*a^b^c"
      ]
     },
     "execution_count": 5,
     "metadata": {},
     "output_type": "execute_result"
    }
   ],
   "source": [
    "a*(b^c)-b*(a^c)+c*(a^b)"
   ]
  },
  {
   "cell_type": "code",
   "execution_count": 6,
   "metadata": {},
   "outputs": [
    {
     "data": {
      "text/latex": [
       "\\begin{equation*} 4 \\boldsymbol{a}\\wedge \\boldsymbol{b}\\wedge \\boldsymbol{c}\\wedge \\boldsymbol{d} \\end{equation*}"
      ],
      "text/plain": [
       "4*a^b^c^d"
      ]
     },
     "execution_count": 6,
     "metadata": {},
     "output_type": "execute_result"
    }
   ],
   "source": [
    "a*(b^c^d)-b*(a^c^d)+c*(a^b^d)-d*(a^b^c)"
   ]
  },
  {
   "cell_type": "code",
   "execution_count": 7,
   "metadata": {},
   "outputs": [
    {
     "data": {
      "text/latex": [
       "\\begin{equation*} - \\left (\\boldsymbol{a}\\cdot \\boldsymbol{c}\\right )  \\left (\\boldsymbol{b}\\cdot \\boldsymbol{d}\\right )  + \\left (\\boldsymbol{a}\\cdot \\boldsymbol{d}\\right )  \\left (\\boldsymbol{b}\\cdot \\boldsymbol{c}\\right )  \\end{equation*}"
      ],
      "text/plain": [
       "-(a.c)*(b.d) + (a.d)*(b.c)"
      ]
     },
     "execution_count": 7,
     "metadata": {},
     "output_type": "execute_result"
    }
   ],
   "source": [
    "(a^b)|(c^d)"
   ]
  },
  {
   "cell_type": "code",
   "execution_count": 8,
   "metadata": {},
   "outputs": [
    {
     "data": {
      "text/latex": [
       "\\begin{equation*} - \\left (\\boldsymbol{a}\\cdot \\boldsymbol{c}\\right )  \\left (\\boldsymbol{b}\\cdot \\boldsymbol{d}\\right )  + \\left (\\boldsymbol{a}\\cdot \\boldsymbol{d}\\right )  \\left (\\boldsymbol{b}\\cdot \\boldsymbol{c}\\right )  \\end{equation*}"
      ],
      "text/plain": [
       "-(a.c)*(b.d) + (a.d)*(b.c)"
      ]
     },
     "execution_count": 8,
     "metadata": {},
     "output_type": "execute_result"
    }
   ],
   "source": [
    "((a^b)|c)|d"
   ]
  },
  {
   "cell_type": "code",
   "execution_count": 9,
   "metadata": {},
   "outputs": [
    {
     "data": {
      "text/latex": [
       "\\begin{equation*} - \\left (\\boldsymbol{b}\\cdot \\boldsymbol{d}\\right )  \\boldsymbol{a}\\wedge \\boldsymbol{c} + \\left (\\boldsymbol{b}\\cdot \\boldsymbol{c}\\right )  \\boldsymbol{a}\\wedge \\boldsymbol{d} + \\left (\\boldsymbol{a}\\cdot \\boldsymbol{d}\\right )  \\boldsymbol{b}\\wedge \\boldsymbol{c} - \\left (\\boldsymbol{a}\\cdot \\boldsymbol{c}\\right )  \\boldsymbol{b}\\wedge \\boldsymbol{d} \\end{equation*}"
      ],
      "text/plain": [
       "-(b.d)*a^c + (b.c)*a^d + (a.d)*b^c - (a.c)*b^d"
      ]
     },
     "execution_count": 9,
     "metadata": {},
     "output_type": "execute_result"
    }
   ],
   "source": [
    "(a^b)>>(c^d)#commutator"
   ]
  },
  {
   "cell_type": "code",
   "execution_count": 10,
   "metadata": {},
   "outputs": [
    {
     "data": {
      "text/latex": [
       "\\begin{equation*} \\left ( - \\left (\\boldsymbol{a}\\cdot \\boldsymbol{c}\\right )  \\left (\\boldsymbol{b}\\cdot \\boldsymbol{d}\\right )  + \\left (\\boldsymbol{a}\\cdot \\boldsymbol{d}\\right )  \\left (\\boldsymbol{b}\\cdot \\boldsymbol{c}\\right ) \\right )  + \\boldsymbol{a}\\wedge \\boldsymbol{b}\\wedge \\boldsymbol{c}\\wedge \\boldsymbol{d} \\end{equation*}"
      ],
      "text/plain": [
       "-(a.c)*(b.d) + (a.d)*(b.c) + a^b^c^d"
      ]
     },
     "execution_count": 10,
     "metadata": {},
     "output_type": "execute_result"
    }
   ],
   "source": [
    "(a^b)<<(c^d)#anti-commutator"
   ]
  }
 ],
 "metadata": {
  "kernelspec": {
   "display_name": "Python 3",
   "language": "python",
   "name": "python3"
  },
  "language_info": {
   "codemirror_mode": {
    "name": "ipython",
    "version": 3
   },
   "file_extension": ".py",
   "mimetype": "text/x-python",
   "name": "python",
   "nbconvert_exporter": "python",
   "pygments_lexer": "ipython3",
   "version": "3.8.2"
  },
  "latex_envs": {
   "bibliofile": "biblio.bib",
   "cite_by": "apalike",
   "current_citInitial": 1,
   "eqLabelWithNumbers": true,
   "eqNumInitial": 0
  },
  "widgets": {
   "state": {},
   "version": "1.1.2"
  }
 },
 "nbformat": 4,
 "nbformat_minor": 1
}
