{
 "cells": [
  {
   "cell_type": "code",
   "execution_count": 1,
   "metadata": {
    "collapsed": false
   },
   "outputs": [
    {
     "data": {
      "text/latex": [
       "$$\\left(\\frac{- c_{0} - c_{1} + 1}{- \\mathit{γ} + z} + \\frac{- b_{0} - b_{1} + 1}{- \\mathit{β} + z} + \\frac{- a_{0} - a_{1} + 1}{- \\mathit{α} + z}\\right) \\frac{d}{d z} w{\\left (z \\right )} + \\frac{d^{2}}{d z^{2}}  w{\\left (z \\right )} + \\frac{w{\\left (z \\right )}}{\\left(- \\mathit{α} + z\\right) \\left(- \\mathit{β} + z\\right) \\left(- \\mathit{γ} + z\\right)} \\left(\\frac{a_{0} a_{1} \\left(\\mathit{α} - \\mathit{β}\\right) \\left(\\mathit{α} - \\mathit{γ}\\right)}{- \\mathit{α} + z} + \\frac{b_{0} b_{1}}{- \\mathit{β} + z} \\left(- \\mathit{α} + \\mathit{β}\\right) \\left(\\mathit{β} - \\mathit{γ}\\right) + \\frac{c_{0} c_{1}}{- \\mathit{γ} + z} \\left(- \\mathit{α} + \\mathit{γ}\\right) \\left(- \\mathit{β} + \\mathit{γ}\\right)\\right) = 0$$"
      ],
      "text/plain": [
       "                                                                             ⎛\n",
       "                                                                   2         ⎜\n",
       "⎛  -c₀ - c₁ + 1      -b₀ - b₁ + 1      -a₀ - a₁ + 1 ⎞ d           d          ⎝\n",
       "⎜─────────────── + ─────────────── + ───────────────⎟⋅──(w(z)) + ───(w(z)) + ─\n",
       "⎝-\\mathit{γ} + z   -\\mathit{β} + z   -\\mathit{α} + z⎠ dz           2          \n",
       "                                                                 dz           \n",
       "\n",
       "a₀⋅a₁⋅(\\mathit{α} - \\mathit{β})⋅(\\mathit{α} - \\mathit{γ})   b₀⋅b₁⋅(-\\mathit{α}\n",
       "───────────────────────────────────────────────────────── + ──────────────────\n",
       "                     -\\mathit{α} + z                                          \n",
       "──────────────────────────────────────────────────────────────────────────────\n",
       "                                                                  (-\\mathit{α}\n",
       "                                                                              \n",
       "\n",
       " + \\mathit{β})⋅(\\mathit{β} - \\mathit{γ})   c₀⋅c₁⋅(-\\mathit{α} + \\mathit{γ})⋅(-\n",
       "──────────────────────────────────────── + ───────────────────────────────────\n",
       "   -\\mathit{β} + z                                               -\\mathit{γ} +\n",
       "──────────────────────────────────────────────────────────────────────────────\n",
       " + z)⋅(-\\mathit{β} + z)⋅(-\\mathit{γ} + z)                                     \n",
       "                                                                              \n",
       "\n",
       "\\mathit{β} + \\mathit{γ})⎞         \n",
       "────────────────────────⎟⋅w(z)    \n",
       " z                      ⎠         \n",
       "────────────────────────────── = 0\n",
       "                                  \n",
       "                                  "
      ]
     },
     "execution_count": 1,
     "metadata": {},
     "output_type": "execute_result"
    }
   ],
   "source": [
    "import sympy\n",
    "variable=sympy.symbols('z')\n",
    "function=sympy.symbols('w',cls=sympy.Function)(variable)\n",
    "latin=sympy.symbols('a:c')\n",
    "def latinGreek(latin):return sympy.symbols('\\mathit{'+chr(ord(str(latin))+848)+'}')\n",
    "riemann=(function.diff(variable,2)+sum(map(lambda a:(1-sum(sympy.symbols(str(a)+':2')))/(variable-latinGreek(a)),latin))*function.diff(variable)\n",
    "         +function/sympy.prod(map(lambda a:variable-latinGreek(a),latin))\n",
    "         *sum(map(lambda a:sympy.prod(filter(lambda b:b,map(lambda b:latinGreek(a)-latinGreek(b),latin)))*sympy.prod(sympy.symbols(str(a)+':2'))/(variable-latinGreek(a)),latin)))\n",
    "sympy.Eq(riemann,0)"
   ]
  },
  {
   "cell_type": "code",
   "execution_count": 2,
   "metadata": {
    "collapsed": false
   },
   "outputs": [
    {
     "data": {
      "text/latex": [
       "$$a_{0} + a_{1} + b_{0} + b_{1} + c_{0} + c_{1} = 1$$"
      ],
      "text/plain": [
       "a₀ + a₁ + b₀ + b₁ + c₀ + c₁ = 1"
      ]
     },
     "execution_count": 2,
     "metadata": {},
     "output_type": "execute_result"
    }
   ],
   "source": [
    "sympy.Eq(sum(map(lambda a:sum(sympy.symbols(str(a)+':2')),latin)),1)"
   ]
  },
  {
   "cell_type": "code",
   "execution_count": 3,
   "metadata": {
    "collapsed": false
   },
   "outputs": [
    {
     "data": {
      "text/latex": [
       "$$\\left(\\frac{- \\mathit{α} + z}{- \\mathit{γ} + z}\\right)^{a_{0}} \\left(\\frac{- \\mathit{β} + z}{- \\mathit{γ} + z}\\right)^{b_{0}} {{}_{2}F_{1}\\left(\\begin{matrix} a_{0} + b_{0} + c_{0}, a_{0} + b_{0} + c_{1} \\\\ a_{0} - a_{1} + 1 \\end{matrix}\\middle| {\\frac{\\left(- \\mathit{α} + z\\right) \\left(\\mathit{β} - \\mathit{γ}\\right)}{\\left(- \\mathit{α} + \\mathit{β}\\right) \\left(- \\mathit{γ} + z\\right)}} \\right)}$$"
      ],
      "text/plain": [
       "                 a₀                  b₀                                       \n",
       "⎛-\\mathit{α} + z⎞   ⎛-\\mathit{β} + z⎞    ┌─  ⎛a₀ + b₀ + c₀, a₀ + b₀ + c₁ │ (-\\\n",
       "⎜───────────────⎟  ⋅⎜───────────────⎟  ⋅ ├─  ⎜                           │ ───\n",
       "⎝-\\mathit{γ} + z⎠   ⎝-\\mathit{γ} + z⎠   2╵ 1 ⎝       a₀ - a₁ + 1         │ (-\\\n",
       "\n",
       "                                          \n",
       "mathit{α} + z)⋅(\\mathit{β} - \\mathit{γ}) ⎞\n",
       "─────────────────────────────────────────⎟\n",
       "mathit{α} + \\mathit{β})⋅(-\\mathit{γ} + z)⎠"
      ]
     },
     "execution_count": 3,
     "metadata": {},
     "output_type": "execute_result"
    }
   ],
   "source": [
    "def fraction(variable):return (variable-latinGreek(latin[0]))/(variable-latinGreek(latin[-1]))\n",
    "solution=(fraction(variable)**sympy.symbols(str(latin[0])+'0')*fraction(variable).subs(latinGreek(latin[0]),latinGreek(latin[1]))**sympy.symbols(str(latin[1])+'0')\n",
    "          *sympy.hyper([sum(map(lambda a:sympy.symbols(str(a)+'0'),latin)),sum(map(lambda a:sympy.symbols(str(a)+':1')[0],latin[:2]))+sympy.symbols(str(latin[-1])+'1')],\n",
    "                       [1+sympy.symbols(str(latin[0])+'0')-sympy.symbols(str(latin[0])+'_1')],fraction(variable)/fraction(latinGreek(latin[1]))))\n",
    "solution"
   ]
  },
  {
   "cell_type": "code",
   "execution_count": 4,
   "metadata": {
    "collapsed": false
   },
   "outputs": [
    {
     "data": {
      "text/latex": [
       "$$\\left(\\frac{- b_{0} - b_{1} + 1}{- \\mathit{β} + z} + \\frac{- a_{0} - a_{1} + 1}{- \\mathit{α} + z}\\right) \\frac{d}{d z} w{\\left (z \\right )} + \\frac{d^{2}}{d z^{2}}  w{\\left (z \\right )} + \\frac{w{\\left (z \\right )}}{\\left(- \\mathit{α} + z\\right) \\left(- \\mathit{β} + z\\right)} \\left(\\frac{a_{0} a_{1} \\left(\\mathit{α} - \\mathit{β}\\right)}{- \\mathit{α} + z} + \\frac{b_{0} b_{1} \\left(- \\mathit{α} + \\mathit{β}\\right)}{- \\mathit{β} + z} + c_{0} c_{1}\\right) = 0$$"
      ],
      "text/plain": [
       "                                                           ⎛a₀⋅a₁⋅(\\mathit{α} \n",
       "                                                 2         ⎜──────────────────\n",
       "⎛  -b₀ - b₁ + 1      -a₀ - a₁ + 1 ⎞ d           d          ⎝        -\\mathit{α\n",
       "⎜─────────────── + ───────────────⎟⋅──(w(z)) + ───(w(z)) + ───────────────────\n",
       "⎝-\\mathit{β} + z   -\\mathit{α} + z⎠ dz           2                            \n",
       "                                               dz                             \n",
       "\n",
       "- \\mathit{β})   b₀⋅b₁⋅(-\\mathit{α} + \\mathit{β})        ⎞         \n",
       "───────────── + ──────────────────────────────── + c₀⋅c₁⎟⋅w(z)    \n",
       "} + z                   -\\mathit{β} + z                 ⎠         \n",
       "────────────────────────────────────────────────────────────── = 0\n",
       "    (-\\mathit{α} + z)⋅(-\\mathit{β} + z)                           \n",
       "                                                                  "
      ]
     },
     "execution_count": 4,
     "metadata": {},
     "output_type": "execute_result"
    }
   ],
   "source": [
    "infinity=list(filter(lambda node:node.has(latinGreek(latin[-1])),riemann.coeff(function).args))\n",
    "infinity=riemann.subs(sympy.prod(infinity),\n",
    "                      sum(map(lambda node:next(filter(lambda node:not isinstance(node,sympy.Add),infinity))*node,next(filter(lambda node:isinstance(node,sympy.Add),infinity)).args)))\n",
    "infinity=sympy.use(infinity,lambda expr:sympy.limit(expr,latinGreek(latin[-1]),sympy.oo),level=3)\n",
    "sympy.Eq(infinity,0)"
   ]
  },
  {
   "cell_type": "code",
   "execution_count": 5,
   "metadata": {
    "collapsed": false
   },
   "outputs": [
    {
     "data": {
      "text/latex": [
       "$$\\left(- \\mathit{α} + z\\right)^{a_{0}} \\left(- \\mathit{β} + z\\right)^{b_{0}} {{}_{2}F_{1}\\left(\\begin{matrix} a_{0} + b_{0} + c_{0}, a_{0} + b_{0} + c_{1} \\\\ a_{0} - a_{1} + 1 \\end{matrix}\\middle| {\\frac{- \\mathit{α} + z}{- \\mathit{α} + \\mathit{β}}} \\right)}$$"
      ],
      "text/plain": [
       "                 a₀                  b₀  ┌─  ⎛a₀ + b₀ + c₀, a₀ + b₀ + c₁ │    \n",
       "(-\\mathit{α} + z)  ⋅(-\\mathit{β} + z)  ⋅ ├─  ⎜                           │ ───\n",
       "                                        2╵ 1 ⎝       a₀ - a₁ + 1         │ -\\m\n",
       "\n",
       " -\\mathit{α} + z     ⎞\n",
       "─────────────────────⎟\n",
       "athit{α} + \\mathit{β}⎠"
      ]
     },
     "execution_count": 5,
     "metadata": {},
     "output_type": "execute_result"
    }
   ],
   "source": [
    "def solutionInfinity(expr):\n",
    "    return expr.func(*map(lambda expr:1 if isinstance(expr,sympy.Add) and expr.has(latinGreek(latin[-1])) else solutionInfinity(expr),expr.args)) if expr.args else expr\n",
    "solutionInfinity=solutionInfinity(solution)\n",
    "solutionInfinity"
   ]
  },
  {
   "cell_type": "code",
   "execution_count": 13,
   "metadata": {
    "collapsed": false
   },
   "outputs": [
    {
     "data": {
      "text/latex": [
       "$$- 2 z \\frac{d}{d z} w{\\left (z \\right )} + \\left(\\lambda - \\frac{m^{2}}{- z^{2} + 1}\\right) w{\\left (z \\right )} + \\left(- z^{2} + 1\\right) \\frac{d^{2}}{d z^{2}}  w{\\left (z \\right )}$$"
      ],
      "text/plain": [
       "                 ⎛        2   ⎞                     2      \n",
       "      d          ⎜       m    ⎟        ⎛   2    ⎞  d       \n",
       "- 2⋅z⋅──(w(z)) + ⎜λ - ────────⎟⋅w(z) + ⎝- z  + 1⎠⋅───(w(z))\n",
       "      dz         ⎜       2    ⎟                     2      \n",
       "                 ⎝    - z  + 1⎠                   dz       "
      ]
     },
     "execution_count": 13,
     "metadata": {},
     "output_type": "execute_result"
    }
   ],
   "source": [
    "import sympy\n",
    "lamda,m,variable,new=sympy.symbols('lamda,m,z,x')\n",
    "function=sympy.Function('w')\n",
    "legendre=sympy.diff((1-variable**2)*function(variable).diff(variable),variable)+(lamda-m**2/(1-variable**2))*function(variable)\n",
    "legendre"
   ]
  },
  {
   "cell_type": "code",
   "execution_count": 10,
   "metadata": {
    "collapsed": false
   },
   "outputs": [
    {
     "data": {
      "text/latex": [
       "$$- \\frac{2 z \\frac{d}{d z} w{\\left (z \\right )}}{- z^{2} + 1} + \\frac{w{\\left (z \\right )}}{- z^{2} + 1} \\left(\\lambda - \\frac{m^{2}}{- z^{2} + 1}\\right) + \\frac{d^{2}}{d z^{2}}  w{\\left (z \\right )}$$"
      ],
      "text/plain": [
       "                 ⎛        2   ⎞                 \n",
       "                 ⎜       m    ⎟                 \n",
       "      d          ⎜λ - ────────⎟⋅w(z)            \n",
       "  2⋅z⋅──(w(z))   ⎜       2    ⎟          2      \n",
       "      dz         ⎝    - z  + 1⎠         d       \n",
       "- ──────────── + ─────────────────── + ───(w(z))\n",
       "       2                  2              2      \n",
       "    - z  + 1           - z  + 1        dz       "
      ]
     },
     "execution_count": 10,
     "metadata": {},
     "output_type": "execute_result"
    }
   ],
   "source": [
    "sympy.use(legendre,lambda node:node/legendre.coeff(function.diff(variable,2)),level=1)"
   ]
  },
  {
   "cell_type": "code",
   "execution_count": 19,
   "metadata": {
    "collapsed": false
   },
   "outputs": [
    {
     "data": {
      "text/latex": [
       "$$2 x - 1$$"
      ],
      "text/plain": [
       "2⋅x - 1"
      ]
     },
     "execution_count": 19,
     "metadata": {},
     "output_type": "execute_result"
    }
   ],
   "source": [
    "z=next(iter(sympy.solveset((variable+1)/2-new,variable)))\n",
    "z"
   ]
  },
  {
   "cell_type": "code",
   "execution_count": 23,
   "metadata": {
    "collapsed": false
   },
   "outputs": [
    {
     "data": {
      "text/latex": [
       "$$- z \\frac{d}{d x} w{\\left (z \\right )} + \\left(\\lambda - \\frac{m^{2}}{- z^{2} + 1}\\right) w{\\left (z \\right )} + \\left(- z^{2} + 1\\right) \\frac{d^{2}}{d z^{2}}  w{\\left (z \\right )}$$"
      ],
      "text/plain": [
       "               ⎛        2   ⎞                     2      \n",
       "    d          ⎜       m    ⎟        ⎛   2    ⎞  d       \n",
       "- z⋅──(w(z)) + ⎜λ - ────────⎟⋅w(z) + ⎝- z  + 1⎠⋅───(w(z))\n",
       "    dx         ⎜       2    ⎟                     2      \n",
       "               ⎝    - z  + 1⎠                   dz       "
      ]
     },
     "execution_count": 23,
     "metadata": {},
     "output_type": "execute_result"
    }
   ],
   "source": [
    "legendre.replace(sympy.Derivative(sympy.Wild('wild'),variable),lambda wild:sympy.Derivative(wild,new)/z.diff(new))"
   ]
  },
  {
   "cell_type": "code",
   "execution_count": 12,
   "metadata": {
    "collapsed": false
   },
   "outputs": [
    {
     "data": {
      "text/latex": [
       "$$2$$"
      ],
      "text/plain": [
       "2"
      ]
     },
     "execution_count": 12,
     "metadata": {},
     "output_type": "execute_result"
    }
   ],
   "source": [
    "import sympy\n",
    "lamda,m,x,z=sympy.symbols('lamda,m,x,z')\n",
    "t=2*z-1\n",
    "t.diff(z)"
   ]
  },
  {
   "cell_type": "code",
   "execution_count": 13,
   "metadata": {
    "collapsed": false
   },
   "outputs": [
    {
     "data": {
      "text/latex": [
       "$$\\lambda w{\\left (z \\right )} - \\frac{m^{2} w{\\left (z \\right )}}{- 4 z^{2} + 4 z} - z^{2} \\frac{d^{2}}{d z^{2}}  w{\\left (z \\right )} - 2 z \\frac{d}{d z} w{\\left (z \\right )} + z \\frac{d^{2}}{d z^{2}}  w{\\left (z \\right )} + \\frac{d}{d z} w{\\left (z \\right )}$$"
      ],
      "text/plain": [
       "            2                2                            2                 \n",
       "           m ⋅w(z)       2  d              d             d          d       \n",
       "λ⋅w(z) - ──────────── - z ⋅───(w(z)) - 2⋅z⋅──(w(z)) + z⋅───(w(z)) + ──(w(z))\n",
       "              2              2             dz             2         dz      \n",
       "         - 4⋅z  + 4⋅z      dz                           dz                  "
      ]
     },
     "execution_count": 13,
     "metadata": {},
     "output_type": "execute_result"
    }
   ],
   "source": [
    "w=sympy.Function('w')\n",
    "a=sympy.diff((1-x**2)*w(x).diff(x),x)+(lamda-m**2/(1-x**2))*w(x)\n",
    "b=a.subs(w(x).diff(x,2),w(z).diff(z,2)/4).subs(w(x).diff(x),w(z).diff(z)/2).subs(w(x),w(z)).subs(x,2*z-1).expand()\n",
    "b"
   ]
  },
  {
   "cell_type": "code",
   "execution_count": 7,
   "metadata": {
    "collapsed": false
   },
   "outputs": [
    {
     "data": {
      "text/latex": [
       "$$\\left(\\frac{1}{z - 1} - \\frac{z + 1}{\\left(z - 1\\right)^{2}}\\right) \\left. \\frac{d}{d \\xi_{1}} w{\\left (\\xi_{1} \\right )} \\right|_{\\substack{ \\xi_{1}=\\frac{z + 1}{z - 1} }} - \\frac{d}{d z} w{\\left (z \\right )}$$"
      ],
      "text/plain": [
       "⎛  1      z + 1  ⎞ ⎛ d        ⎞│           d       \n",
       "⎜───── - ────────⎟⋅⎜───(w(ξ₁))⎟│   z + 1 - ──(w(z))\n",
       "⎜z - 1          2⎟ ⎝dξ₁       ⎠│ξ₁=─────   dz      \n",
       "⎝        (z - 1) ⎠                 z - 1           "
      ]
     },
     "execution_count": 7,
     "metadata": {},
     "output_type": "execute_result"
    }
   ],
   "source": [
    "w(t).diff(z)-w(z).diff(z)"
   ]
  },
  {
   "cell_type": "code",
   "execution_count": 8,
   "metadata": {
    "collapsed": false
   },
   "outputs": [
    {
     "data": {
      "text/latex": [
       "$$\\left [ \\frac{1}{\\left. \\frac{d}{d \\xi_{1}} w{\\left (\\xi_{1} \\right )} \\right|_{\\substack{ \\xi_{1}=\\frac{z + 1}{z - 1} }}} \\left(\\left. \\frac{d}{d \\xi_{1}} w{\\left (\\xi_{1} \\right )} \\right|_{\\substack{ \\xi_{1}=\\frac{z + 1}{z - 1} }} - \\left. \\frac{d^{2}}{d \\xi_{1}^{2}}  w{\\left (\\xi_{1} \\right )} \\right|_{\\substack{ \\xi_{1}=\\frac{z + 1}{z - 1} }}\\right)\\right ]$$"
      ],
      "text/plain": [
       "⎡                        ⎛  2        ⎞│        ⎤\n",
       "⎢⎛ d        ⎞│           ⎜ d         ⎟│        ⎥\n",
       "⎢⎜───(w(ξ₁))⎟│   z + 1 - ⎜────(w(ξ₁))⎟│        ⎥\n",
       "⎢⎝dξ₁       ⎠│ξ₁=─────   ⎜   2       ⎟│   z + 1⎥\n",
       "⎢                z - 1   ⎝dξ₁        ⎠│ξ₁=─────⎥\n",
       "⎢                                         z - 1⎥\n",
       "⎢──────────────────────────────────────────────⎥\n",
       "⎢            ⎛ d        ⎞│                     ⎥\n",
       "⎢            ⎜───(w(ξ₁))⎟│   z + 1             ⎥\n",
       "⎢            ⎝dξ₁       ⎠│ξ₁=─────             ⎥\n",
       "⎣                            z - 1             ⎦"
      ]
     },
     "execution_count": 8,
     "metadata": {},
     "output_type": "execute_result"
    }
   ],
   "source": [
    "sympy.solve(w(t).diff(z,2))"
   ]
  },
  {
   "cell_type": "code",
   "execution_count": 50,
   "metadata": {
    "collapsed": false
   },
   "outputs": [
    {
     "data": {
      "text/latex": [
       "$$\\left(8 z^{3} - 12 z^{2} + 4 z\\right) \\frac{d}{d z} w{\\left (z \\right )} + \\left(4 z^{4} - 8 z^{3} + 4 z^{2}\\right) \\frac{d^{2}}{d z^{2}}  w{\\left (z \\right )} + \\left(- 4 \\lambda z^{2} + 4 \\lambda z - m^{2}\\right) w{\\left (z \\right )}$$"
      ],
      "text/plain": [
       "                                                       2                      \n",
       "⎛   3       2      ⎞ d          ⎛   4      3      2⎞  d          ⎛       2    \n",
       "⎝8⋅z  - 12⋅z  + 4⋅z⎠⋅──(w(z)) + ⎝4⋅z  - 8⋅z  + 4⋅z ⎠⋅───(w(z)) + ⎝- 4⋅λ⋅z  + 4\n",
       "                     dz                                2                      \n",
       "                                                     dz                       \n",
       "\n",
       "               \n",
       "        2⎞     \n",
       "⋅λ⋅z - m ⎠⋅w(z)\n",
       "               \n",
       "               "
      ]
     },
     "execution_count": 50,
     "metadata": {},
     "output_type": "execute_result"
    }
   ],
   "source": [
    "b.collect(w(z))"
   ]
  },
  {
   "cell_type": "code",
   "execution_count": 14,
   "metadata": {
    "collapsed": false
   },
   "outputs": [
    {
     "data": {
      "text/latex": [
       "$$- x \\frac{d}{d z} w{\\left (z \\right )} + \\left(\\lambda - \\frac{m^{2}}{- x^{2} + 1}\\right) w{\\left (x \\right )} + \\left(- x^{2} + 1\\right) \\frac{d}{d x}\\left(\\frac{1}{2} \\frac{d}{d z} w{\\left (z \\right )}\\right)$$"
      ],
      "text/plain": [
       "                                                  ⎛d       ⎞\n",
       "               ⎛        2   ⎞                     ⎜──(w(z))⎟\n",
       "    d          ⎜       m    ⎟        ⎛   2    ⎞ d ⎜dz      ⎟\n",
       "- x⋅──(w(z)) + ⎜λ - ────────⎟⋅w(x) + ⎝- x  + 1⎠⋅──⎜────────⎟\n",
       "    dz         ⎜       2    ⎟                   dx⎝   2    ⎠\n",
       "               ⎝    - x  + 1⎠                               "
      ]
     },
     "execution_count": 14,
     "metadata": {},
     "output_type": "execute_result"
    }
   ],
   "source": [
    "kk=sympy.diff((1-x**2)*w(x).diff(x),x)+(lamda-m**2/(1-x**2))*w(x)\n",
    "kk.subs(w(x).diff(x),w(z).diff(z)/t.diff(z))"
   ]
  },
  {
   "cell_type": "code",
   "execution_count": 15,
   "metadata": {
    "collapsed": false
   },
   "outputs": [
    {
     "data": {
      "text/latex": [
       "$$- 2 x \\frac{d}{d x} w{\\left (x \\right )} + \\left(\\lambda - \\frac{m^{2}}{- x^{2} + 1}\\right) w{\\left (x \\right )} + \\left(- x^{2} + 1\\right) \\frac{d^{2}}{d x^{2}}  w{\\left (x \\right )}$$"
      ],
      "text/plain": [
       "                 ⎛        2   ⎞                     2      \n",
       "      d          ⎜       m    ⎟        ⎛   2    ⎞  d       \n",
       "- 2⋅x⋅──(w(x)) + ⎜λ - ────────⎟⋅w(x) + ⎝- x  + 1⎠⋅───(w(x))\n",
       "      dx         ⎜       2    ⎟                     2      \n",
       "                 ⎝    - x  + 1⎠                   dx       "
      ]
     },
     "execution_count": 15,
     "metadata": {},
     "output_type": "execute_result"
    }
   ],
   "source": [
    "kk"
   ]
  },
  {
   "cell_type": "code",
   "execution_count": 35,
   "metadata": {
    "collapsed": false
   },
   "outputs": [
    {
     "data": {
      "text/latex": [
       "$$\\left(\\lambda - \\frac{m^{2}}{- 4 z^{2} + 4 z}\\right) w{\\left (z \\right )} + \\left(- 2 z + 1\\right) \\frac{d}{d z} w{\\left (z \\right )} + \\left(- z^{2} + z\\right) \\frac{d^{2}}{d z^{2}}  w{\\left (z \\right )}$$"
      ],
      "text/plain": [
       "⎛          2     ⎞                                           2      \n",
       "⎜         m      ⎟                   d          ⎛   2    ⎞  d       \n",
       "⎜λ - ────────────⎟⋅w(z) + (-2⋅z + 1)⋅──(w(z)) + ⎝- z  + z⎠⋅───(w(z))\n",
       "⎜         2      ⎟                   dz                      2      \n",
       "⎝    - 4⋅z  + 4⋅z⎠                                         dz       "
      ]
     },
     "execution_count": 35,
     "metadata": {},
     "output_type": "execute_result"
    }
   ],
   "source": [
    "a=kk.subs(w(x).diff(x,2),(w(z).diff(z)/t.diff(z)).diff(z)/t.diff(z)).subs(w(x).diff(x),w(z).diff(z)/t.diff(z)).subs(w(x),w(z)).subs(x,t).expand().collect(w(z))"
   ]
  },
  {
   "cell_type": "code",
   "execution_count": 34,
   "metadata": {
    "collapsed": false
   },
   "outputs": [
    {
     "data": {
      "text/latex": [
       "$$- z \\frac{d^{2}}{d z^{2}}  w{\\left (z \\right )} + \\frac{1}{4 z^{3} - 8 z^{2} + 4 z} \\left(4 \\lambda z^{2} w{\\left (z \\right )} - 4 \\lambda z w{\\left (z \\right )} + m^{2} w{\\left (z \\right )} - 4 z w{\\left (z \\right )}\\right) + \\frac{\\frac{d}{d z} w{\\left (z \\right )}}{z - 1}$$"
      ],
      "text/plain": [
       "                                                                d       \n",
       "      2              2                      2                   ──(w(z))\n",
       "     d          4⋅λ⋅z ⋅w(z) - 4⋅λ⋅z⋅w(z) + m ⋅w(z) - 4⋅z⋅w(z)   dz      \n",
       "- z⋅───(w(z)) + ───────────────────────────────────────────── + ────────\n",
       "      2                          3      2                        z - 1  \n",
       "    dz                        4⋅z  - 8⋅z  + 4⋅z                         "
      ]
     },
     "execution_count": 34,
     "metadata": {},
     "output_type": "execute_result"
    }
   ],
   "source": [
    "sympy.use(a.expand().collect(w(z)),sympy.cancel,level=1)"
   ]
  },
  {
   "cell_type": "code",
   "execution_count": 6,
   "metadata": {
    "collapsed": false
   },
   "outputs": [
    {
     "data": {
      "text/latex": [
       "$$\\left(\\frac{- b_{0} - b_{1} + 1}{z + 1} + \\frac{1}{z} \\left(- a_{0} - a_{1} + 1\\right)\\right) \\frac{d}{d z} w{\\left (z \\right )} + \\frac{d^{2}}{d z^{2}}  w{\\left (z \\right )} + \\frac{w{\\left (z \\right )}}{z \\left(z + 1\\right)} \\left(\\frac{a_{0} a_{1}}{z} - \\frac{b_{0} b_{1}}{z + 1} + c_{0} c_{1}\\right)$$"
      ],
      "text/plain": [
       "                                                     ⎛a₀⋅a₁   b₀⋅b₁        ⎞  \n",
       "                                           2         ⎜───── - ───── + c₀⋅c₁⎟⋅w\n",
       "⎛-b₀ - b₁ + 1   -a₀ - a₁ + 1⎞ d           d          ⎝  z     z + 1        ⎠  \n",
       "⎜──────────── + ────────────⎟⋅──(w(z)) + ───(w(z)) + ─────────────────────────\n",
       "⎝   z + 1            z      ⎠ dz           2                  z⋅(z + 1)       \n",
       "                                         dz                                   \n",
       "\n",
       "   \n",
       "(z)\n",
       "   \n",
       "───\n",
       "   \n",
       "   "
      ]
     },
     "execution_count": 6,
     "metadata": {},
     "output_type": "execute_result"
    }
   ],
   "source": [
    "infinity.subs(zip(map(latinGreek,latin[:2]),[0,-1]))"
   ]
  },
  {
   "cell_type": "code",
   "execution_count": null,
   "metadata": {
    "collapsed": true
   },
   "outputs": [],
   "source": []
  }
 ],
 "metadata": {
  "kernelspec": {
   "display_name": "Python 3",
   "language": "python",
   "name": "python3"
  },
  "language_info": {
   "codemirror_mode": {
    "name": "ipython",
    "version": 3
   },
   "file_extension": ".py",
   "mimetype": "text/x-python",
   "name": "python",
   "nbconvert_exporter": "python",
   "pygments_lexer": "ipython3",
   "version": "3.5.2"
  }, 
  "widgets": {
   "state": {},
   "version": "1.1.2"
  }
 },
 "nbformat": 4,
 "nbformat_minor": 0
}
