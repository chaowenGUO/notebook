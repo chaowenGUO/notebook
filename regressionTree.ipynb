{
 "cells": [
  {
   "cell_type": "code",
   "execution_count": 1,
   "metadata": {},
   "outputs": [
    {
     "data": {
      "text/html": [
       "<div>\n",
       "<style scoped>\n",
       "    .dataframe tbody tr th:only-of-type {\n",
       "        vertical-align: middle;\n",
       "    }\n",
       "\n",
       "    .dataframe tbody tr th {\n",
       "        vertical-align: top;\n",
       "    }\n",
       "\n",
       "    .dataframe thead th {\n",
       "        text-align: right;\n",
       "    }\n",
       "</style>\n",
       "<table border=\"1\" class=\"dataframe\">\n",
       "  <thead>\n",
       "    <tr style=\"text-align: right;\">\n",
       "      <th></th>\n",
       "      <th>division</th>\n",
       "      <th>premean</th>\n",
       "      <th>postmean</th>\n",
       "      <th>loss</th>\n",
       "    </tr>\n",
       "  </thead>\n",
       "  <tbody>\n",
       "    <tr>\n",
       "      <th>1</th>\n",
       "      <td>1.5</td>\n",
       "      <td>5.560000</td>\n",
       "      <td>7.501111</td>\n",
       "      <td>15.723089</td>\n",
       "    </tr>\n",
       "    <tr>\n",
       "      <th>2</th>\n",
       "      <td>2.5</td>\n",
       "      <td>5.630000</td>\n",
       "      <td>7.726250</td>\n",
       "      <td>12.083388</td>\n",
       "    </tr>\n",
       "    <tr>\n",
       "      <th>3</th>\n",
       "      <td>3.5</td>\n",
       "      <td>5.723333</td>\n",
       "      <td>7.985714</td>\n",
       "      <td>8.365638</td>\n",
       "    </tr>\n",
       "    <tr>\n",
       "      <th>4</th>\n",
       "      <td>4.5</td>\n",
       "      <td>5.892500</td>\n",
       "      <td>8.250000</td>\n",
       "      <td>5.775475</td>\n",
       "    </tr>\n",
       "    <tr>\n",
       "      <th>5</th>\n",
       "      <td>5.5</td>\n",
       "      <td>6.074000</td>\n",
       "      <td>8.540000</td>\n",
       "      <td>3.911320</td>\n",
       "    </tr>\n",
       "    <tr>\n",
       "      <th>6</th>\n",
       "      <td>6.5</td>\n",
       "      <td>6.236667</td>\n",
       "      <td>8.912500</td>\n",
       "      <td>1.930008</td>\n",
       "    </tr>\n",
       "    <tr>\n",
       "      <th>7</th>\n",
       "      <td>7.5</td>\n",
       "      <td>6.617143</td>\n",
       "      <td>8.916667</td>\n",
       "      <td>8.009810</td>\n",
       "    </tr>\n",
       "    <tr>\n",
       "      <th>8</th>\n",
       "      <td>8.5</td>\n",
       "      <td>6.877500</td>\n",
       "      <td>9.025000</td>\n",
       "      <td>11.735400</td>\n",
       "    </tr>\n",
       "    <tr>\n",
       "      <th>9</th>\n",
       "      <td>9.5</td>\n",
       "      <td>7.113333</td>\n",
       "      <td>9.050000</td>\n",
       "      <td>15.738600</td>\n",
       "    </tr>\n",
       "  </tbody>\n",
       "</table>\n",
       "</div>"
      ],
      "text/plain": [
       "   division   premean  postmean       loss\n",
       "1       1.5  5.560000  7.501111  15.723089\n",
       "2       2.5  5.630000  7.726250  12.083388\n",
       "3       3.5  5.723333  7.985714   8.365638\n",
       "4       4.5  5.892500  8.250000   5.775475\n",
       "5       5.5  6.074000  8.540000   3.911320\n",
       "6       6.5  6.236667  8.912500   1.930008\n",
       "7       7.5  6.617143  8.916667   8.009810\n",
       "8       8.5  6.877500  9.025000  11.735400\n",
       "9       9.5  7.113333  9.050000  15.738600"
      ]
     },
     "metadata": {},
     "output_type": "display_data"
    },
    {
     "data": {
      "text/plain": [
       "division    6.500000\n",
       "premean     6.236667\n",
       "postmean    8.912500\n",
       "loss        1.930008\n",
       "Name: 6, dtype: float64"
      ]
     },
     "metadata": {},
     "output_type": "display_data"
    }
   ],
   "source": [
    "import pandas, statistics\n",
    "from IPython.display import display\n",
    "y = [5.56, 5.7, 5.91, 6.4, 6.8, 7.05, 8.9, 8.7, 9, 9.05]\n",
    "df = pandas.DataFrame(columns=['division', 'premean', 'postmean', 'loss'])\n",
    "for _ in range(1, len(y)):\n",
    "    df.loc[_] = [_ + 0.5, statistics.mean(y[:_]), statistics.mean(y[_:]), statistics.pvariance(y[:_]) * _ + statistics.pvariance(y[_:]) * (len(y) - _)]\n",
    "display(df)\n",
    "division = df.loc[df.loss.idxmin()]\n",
    "display(division)\n",
    "def regressionFunction(variable):\n",
    "    return division.premean if variable < division.division else division.postmean"
   ]
  }
 ],
 "metadata": {
  "kernelspec": {
   "display_name": "Python 3",
   "language": "python",
   "name": "python3"
  },
  "language_info": {
   "codemirror_mode": {
    "name": "ipython",
    "version": 3
   },
   "file_extension": ".py",
   "mimetype": "text/x-python",
   "name": "python",
   "nbconvert_exporter": "python",
   "pygments_lexer": "ipython3",
   "version": "3.7.4"
  }
 },
 "nbformat": 4,
 "nbformat_minor": 2
}
