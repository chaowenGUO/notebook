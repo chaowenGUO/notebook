{
 "cells": [
  {
   "cell_type": "code",
   "execution_count": 1,
   "metadata": {
    "collapsed": false
   },
   "outputs": [
    {
     "data": {
      "text/latex": [
       "$\\dfrac{\\int\\psi(x)H\\psi(x)dx}{\\int\\psi(x)\\psi(x)dx}$; $\\psi(x)$ is given before calculation; $\\psi(x)$ not need to normalize but square-integrable and continuous"
      ],
      "text/plain": [
       "<IPython.core.display.Latex object>"
      ]
     },
     "metadata": {},
     "output_type": "display_data"
    }
   ],
   "source": [
    "%%latex\n",
    "$\\dfrac{\\int\\psi(x)H\\psi(x)dx}{\\int\\psi(x)\\psi(x)dx}$; $\\psi(x)$ is given before calculation; $\\psi(x)$ not need to normalize but square-integrable and continuous"
   ]
  },
  {
   "cell_type": "code",
   "execution_count": 2,
   "metadata": {
    "collapsed": false
   },
   "outputs": [
    {
     "data": {
      "text/latex": [
       "$$0.0132118364233777$$"
      ],
      "text/plain": [
       "0.0132118364233777"
      ]
     },
     "execution_count": 2,
     "metadata": {},
     "output_type": "execute_result"
    }
   ],
   "source": [
    "def rayleigh(hamiltonian, wavefunction, limits):\n",
    "    return (sympy.integrate(wavefunction * hamiltonian(wavefunction), (position, *limits)) \n",
    "            / sympy.integrate(wavefunction**2,(position, *limits)))\n",
    "\n",
    "#particle in a box\n",
    "import sympy\n",
    "length, mass, hbar = sympy.symbols('l,m,hbar', positive=True)\n",
    "position = sympy.symbols('x', real=True)\n",
    "wavefunction = position * (length - position)\n",
    "hamiltonian = lambda wavefunction: -hbar**2 / 2 / mass * wavefunction.diff(position, 2)\n",
    "exact = hbar**2 * sympy.pi**2 / 2 / mass / length**2  #曾谨言volume1 page65 3.2.7\n",
    "sympy.N(rayleigh(hamiltonian, wavefunction, [0, length]) / exact - 1)"
   ]
  },
  {
   "cell_type": "code",
   "execution_count": 3,
   "metadata": {
    "collapsed": false
   },
   "outputs": [
    {
     "data": {
      "text/latex": [
       "$$\\frac{\\hbar \\varpi}{2}$$"
      ],
      "text/plain": [
       "h̅⋅varpi\n",
       "────────\n",
       "   2    "
      ]
     },
     "execution_count": 3,
     "metadata": {},
     "output_type": "execute_result"
    }
   ],
   "source": [
    "#harmonic oscillator\n",
    "wavefunction = sympy.exp(-length * position**2)\n",
    "angularFrequency = sympy.symbols('varpi', positive=True)\n",
    "hamiltonian = (lambda wavefunction: -hbar**2 / 2 / mass * wavefunction.diff(position, 2) \n",
    "               + mass * angularFrequency**2 / 2 * position**2 * wavefunction)\n",
    "ground = rayleigh(hamiltonian, wavefunction, [-sympy.oo, sympy.oo])\n",
    "ground.subs(length, sympy.solveset(ground.diff(length), length).sup)"
   ]
  },
  {
   "cell_type": "code",
   "execution_count": 4,
   "metadata": {
    "collapsed": false
   },
   "outputs": [
    {
     "data": {
      "text/latex": [
       "$$\\left[\\begin{matrix}x \\left(l - x\\right)\\\\x^{2} \\left(l - x\\right)^{2}\\\\x \\left(\\frac{l}{2} - x\\right) \\left(l - x\\right)\\\\x^{2} \\left(\\frac{l}{2} - x\\right) \\left(l - x\\right)^{2}\\end{matrix}\\right]$$"
      ],
      "text/plain": [
       "⎡     x⋅(l - x)     ⎤\n",
       "⎢                   ⎥\n",
       "⎢     2        2    ⎥\n",
       "⎢    x ⋅(l - x)     ⎥\n",
       "⎢                   ⎥\n",
       "⎢   ⎛l    ⎞         ⎥\n",
       "⎢ x⋅⎜─ - x⎟⋅(l - x) ⎥\n",
       "⎢   ⎝2    ⎠         ⎥\n",
       "⎢                   ⎥\n",
       "⎢ 2 ⎛l    ⎞        2⎥\n",
       "⎢x ⋅⎜─ - x⎟⋅(l - x) ⎥\n",
       "⎣   ⎝2    ⎠         ⎦"
      ]
     },
     "execution_count": 4,
     "metadata": {},
     "output_type": "execute_result"
    }
   ],
   "source": [
    "basis = sympy.Matrix([\n",
    "    position * (length - position),\n",
    "    position**2 * (length - position)**2,\n",
    "    position * (length - position) * (length / 2 - position),\n",
    "    position**2 * (length - position)**2 * (length / 2 - position)\n",
    "])\n",
    "basis"
   ]
  },
  {
   "cell_type": "code",
   "execution_count": 5,
   "metadata": {
    "collapsed": false
   },
   "outputs": [
    {
     "data": {
      "text/latex": [
       "$$\\left[\\begin{matrix}\\frac{\\hbar^{2} l^{3}}{6 m} & \\frac{\\hbar^{2} l^{5}}{30 m} & 0 & 0\\\\\\frac{\\hbar^{2} l^{5}}{30 m} & \\frac{\\hbar^{2} l^{7}}{105 m} & 0 & 0\\\\0 & 0 & \\frac{\\hbar^{2} l^{5}}{40 m} & \\frac{\\hbar^{2} l^{7}}{280 m}\\\\0 & 0 & \\frac{\\hbar^{2} l^{7}}{280 m} & \\frac{\\hbar^{2} l^{9}}{1260 m}\\end{matrix}\\right]$$"
      ],
      "text/plain": [
       "⎡  2  3    2  5                ⎤\n",
       "⎢h̅ ⋅l   h̅ ⋅l                 ⎥\n",
       "⎢──────  ──────    0       0   ⎥\n",
       "⎢ 6⋅m     30⋅m                 ⎥\n",
       "⎢                              ⎥\n",
       "⎢  2  5    2  7                ⎥\n",
       "⎢h̅ ⋅l   h̅ ⋅l                 ⎥\n",
       "⎢──────  ──────    0       0   ⎥\n",
       "⎢ 30⋅m   105⋅m                 ⎥\n",
       "⎢                              ⎥\n",
       "⎢                  2  5    2  7⎥\n",
       "⎢                h̅ ⋅l   h̅ ⋅l ⎥\n",
       "⎢  0       0     ──────  ──────⎥\n",
       "⎢                 40⋅m   280⋅m ⎥\n",
       "⎢                              ⎥\n",
       "⎢                  2  7    2  9⎥\n",
       "⎢                h̅ ⋅l   h̅ ⋅l ⎥\n",
       "⎢  0       0     ──────  ──────⎥\n",
       "⎣                280⋅m   1260⋅m⎦"
      ]
     },
     "execution_count": 5,
     "metadata": {},
     "output_type": "execute_result"
    }
   ],
   "source": [
    "hamiltonian = (basis @ basis.applyfunc(lambda element: -hbar**2 / 2 / mass * element.diff(position, 2)).T\n",
    "              ).applyfunc(lambda element: sympy.integrate(element, (position, 0, length)))\n",
    "hamiltonian"
   ]
  },
  {
   "cell_type": "code",
   "execution_count": 6,
   "metadata": {
    "collapsed": false
   },
   "outputs": [
    {
     "data": {
      "text/latex": [
       "$$\\left[\\begin{matrix}\\frac{l^{5}}{30} & \\frac{l^{7}}{140} & 0 & 0\\\\\\frac{l^{7}}{140} & \\frac{l^{9}}{630} & 0 & 0\\\\0 & 0 & \\frac{l^{7}}{840} & \\frac{l^{9}}{5040}\\\\0 & 0 & \\frac{l^{9}}{5040} & \\frac{l^{11}}{27720}\\end{matrix}\\right]$$"
      ],
      "text/plain": [
       "⎡ 5     7             ⎤\n",
       "⎢l     l              ⎥\n",
       "⎢──   ───   0      0  ⎥\n",
       "⎢30   140             ⎥\n",
       "⎢                     ⎥\n",
       "⎢  7    9             ⎥\n",
       "⎢ l    l              ⎥\n",
       "⎢───  ───   0      0  ⎥\n",
       "⎢140  630             ⎥\n",
       "⎢                     ⎥\n",
       "⎢            7     9  ⎥\n",
       "⎢           l     l   ⎥\n",
       "⎢ 0    0   ───   ──── ⎥\n",
       "⎢          840   5040 ⎥\n",
       "⎢                     ⎥\n",
       "⎢            9     11 ⎥\n",
       "⎢           l     l   ⎥\n",
       "⎢ 0    0   ────  ─────⎥\n",
       "⎣          5040  27720⎦"
      ]
     },
     "execution_count": 6,
     "metadata": {},
     "output_type": "execute_result"
    }
   ],
   "source": [
    "overlap = (basis @ basis.T\n",
    "          ).applyfunc(lambda element: sympy.integrate(element, (position, 0, length)))\n",
    "overlap"
   ]
  },
  {
   "cell_type": "code",
   "execution_count": 7,
   "metadata": {
    "collapsed": false
   },
   "outputs": [
    {
     "data": {
      "text/latex": [
       "$$\\left[\\begin{matrix}\\frac{2 \\hbar^{2}}{l^{2} m} \\left(- \\sqrt{133} + 14\\right) & 0 & 0 & 0\\\\0 & \\frac{2 \\hbar^{2}}{l^{2} m} \\left(\\sqrt{133} + 14\\right) & 0 & 0\\\\0 & 0 & \\frac{2 \\hbar^{2}}{l^{2} m} \\left(- 9 \\sqrt{5} + 30\\right) & 0\\\\0 & 0 & 0 & \\frac{2 \\hbar^{2}}{l^{2} m} \\left(9 \\sqrt{5} + 30\\right)\\end{matrix}\\right]$$"
      ],
      "text/plain": [
       "⎡    2                                                                       ⎤\n",
       "⎢2⋅h̅ ⋅(-√133 + 14)                                                          ⎥\n",
       "⎢──────────────────          0                  0                   0        ⎥\n",
       "⎢        2                                                                   ⎥\n",
       "⎢       l ⋅m                                                                 ⎥\n",
       "⎢                                                                            ⎥\n",
       "⎢                        2                                                   ⎥\n",
       "⎢                    2⋅h̅ ⋅(√133 + 14)                                       ⎥\n",
       "⎢        0           ─────────────────          0                   0        ⎥\n",
       "⎢                            2                                               ⎥\n",
       "⎢                           l ⋅m                                             ⎥\n",
       "⎢                                                                            ⎥\n",
       "⎢                                           2                                ⎥\n",
       "⎢                                       2⋅h̅ ⋅(-9⋅√5 + 30)                   ⎥\n",
       "⎢        0                   0          ──────────────────          0        ⎥\n",
       "⎢                                               2                            ⎥\n",
       "⎢                                              l ⋅m                          ⎥\n",
       "⎢                                                                            ⎥\n",
       "⎢                                                               2            ⎥\n",
       "⎢                                                           2⋅h̅ ⋅(9⋅√5 + 30)⎥\n",
       "⎢        0                   0                  0           ─────────────────⎥\n",
       "⎢                                                                   2        ⎥\n",
       "⎣                                                                  l ⋅m      ⎦"
      ]
     },
     "execution_count": 7,
     "metadata": {},
     "output_type": "execute_result"
    }
   ],
   "source": [
    "LowerInverse = overlap.cholesky().inv()\n",
    "coefficient, energy = (LowerInverse @ hamiltonian @ LowerInverse.T).diagonalize()\n",
    "coefficient = LowerInverse.T @ sympy.Matrix.hstack(*map(\n",
    "    lambda column: coefficient[:, column] / coefficient[:, column].norm(),\n",
    "    range(coefficient.shape[-1])))\n",
    "energy"
   ]
  },
  {
   "cell_type": "code",
   "execution_count": 8,
   "metadata": {
    "collapsed": false
   },
   "outputs": [
    {
     "data": {
      "text/latex": [
       "$$\\left[\\begin{matrix}x \\left(l - x\\right) \\left(- \\frac{9 \\sqrt{10}}{l^{\\frac{5}{2}} \\sqrt{1 + \\frac{3}{\\left(-23 + 2 \\sqrt{133}\\right)^{2}}}} + \\frac{3 \\sqrt{10}}{l^{\\frac{5}{2}} \\left(-23 + 2 \\sqrt{133}\\right) \\sqrt{1 + \\frac{3}{\\left(-23 + 2 \\sqrt{133}\\right)^{2}}}}\\right) + \\frac{42 \\sqrt{10} x^{2} \\left(l - x\\right)^{2}}{l^{\\frac{9}{2}} \\sqrt{1 + \\frac{3}{\\left(-23 + 2 \\sqrt{133}\\right)^{2}}}}\\\\x \\left(l - x\\right) \\left(- \\frac{9 \\sqrt{10}}{l^{\\frac{5}{2}} \\sqrt{\\frac{3}{\\left(23 + 2 \\sqrt{133}\\right)^{2}} + 1}} - \\frac{3 \\sqrt{10}}{l^{\\frac{5}{2}} \\left(23 + 2 \\sqrt{133}\\right) \\sqrt{\\frac{3}{\\left(23 + 2 \\sqrt{133}\\right)^{2}} + 1}}\\right) + \\frac{42 \\sqrt{10} x^{2} \\left(l - x\\right)^{2}}{l^{\\frac{9}{2}} \\sqrt{\\frac{3}{\\left(23 + 2 \\sqrt{133}\\right)^{2}} + 1}}\\\\x \\left(\\frac{l}{2} - x\\right) \\left(l - x\\right) \\left(- \\frac{2 \\sqrt{2310}}{l^{\\frac{7}{2}} \\sqrt{1 + \\frac{99}{\\left(-39 + 18 \\sqrt{5}\\right)^{2}}}} + \\frac{6 \\sqrt{2310}}{l^{\\frac{7}{2}} \\left(-39 + 18 \\sqrt{5}\\right) \\sqrt{1 + \\frac{99}{\\left(-39 + 18 \\sqrt{5}\\right)^{2}}}}\\right) + \\frac{12 \\sqrt{2310} x^{2} \\left(\\frac{l}{2} - x\\right) \\left(l - x\\right)^{2}}{l^{\\frac{11}{2}} \\sqrt{1 + \\frac{99}{\\left(-39 + 18 \\sqrt{5}\\right)^{2}}}}\\\\x \\left(\\frac{l}{2} - x\\right) \\left(l - x\\right) \\left(- \\frac{2 \\sqrt{2310}}{l^{\\frac{7}{2}} \\sqrt{\\frac{99}{\\left(39 + 18 \\sqrt{5}\\right)^{2}} + 1}} - \\frac{6 \\sqrt{2310}}{l^{\\frac{7}{2}} \\left(39 + 18 \\sqrt{5}\\right) \\sqrt{\\frac{99}{\\left(39 + 18 \\sqrt{5}\\right)^{2}} + 1}}\\right) + \\frac{12 \\sqrt{2310} x^{2} \\left(\\frac{l}{2} - x\\right) \\left(l - x\\right)^{2}}{l^{\\frac{11}{2}} \\sqrt{\\frac{99}{\\left(39 + 18 \\sqrt{5}\\right)^{2}} + 1}}\\end{matrix}\\right]$$"
      ],
      "text/plain": [
       "⎡                                                                             \n",
       "⎢            ⎛               9⋅√10                                    3⋅√10   \n",
       "⎢  x⋅(l - x)⋅⎜- ─────────────────────────────── + ────────────────────────────\n",
       "⎢            ⎜            _____________________                            ___\n",
       "⎢            ⎜   5/2     ╱            3            5/2                    ╱   \n",
       "⎢            ⎜  l   ⋅   ╱  1 + ───────────────    l   ⋅(-23 + 2⋅√133)⋅   ╱  1 \n",
       "⎢            ⎜         ╱                     2                          ╱     \n",
       "⎢            ⎝       ╲╱        (-23 + 2⋅√133)                         ╲╱      \n",
       "⎢                                                                             \n",
       "⎢                                                                             \n",
       "⎢              ⎛              9⋅√10                                   3⋅√10   \n",
       "⎢    x⋅(l - x)⋅⎜- ────────────────────────────── - ───────────────────────────\n",
       "⎢              ⎜            ____________________                           ___\n",
       "⎢              ⎜   5/2     ╱       3                5/2                   ╱   \n",
       "⎢              ⎜  l   ⋅   ╱  ────────────── + 1    l   ⋅(23 + 2⋅√133)⋅   ╱  ──\n",
       "⎢              ⎜         ╱                2                             ╱     \n",
       "⎢              ⎝       ╲╱    (23 + 2⋅√133)                            ╲╱    (2\n",
       "⎢                                                                             \n",
       "⎢                                                                             \n",
       "⎢                                                                             \n",
       "⎢  ⎛l    ⎞         ⎛             2⋅√2310                                 6⋅√23\n",
       "⎢x⋅⎜─ - x⎟⋅(l - x)⋅⎜- ────────────────────────────── + ───────────────────────\n",
       "⎢  ⎝2    ⎠         ⎜            ____________________                          \n",
       "⎢                  ⎜   7/2     ╱           99           7/2                   \n",
       "⎢                  ⎜  l   ⋅   ╱  1 + ──────────────    l   ⋅(-39 + 18⋅√5)⋅   ╱\n",
       "⎢                  ⎜         ╱                    2                         ╱ \n",
       "⎢                  ⎝       ╲╱        (-39 + 18⋅√5)                        ╲╱  \n",
       "⎢                                                                             \n",
       "⎢                                                                             \n",
       "⎢                                                                             \n",
       "⎢    ⎛l    ⎞         ⎛             2⋅√2310                               6⋅√23\n",
       "⎢  x⋅⎜─ - x⎟⋅(l - x)⋅⎜- ───────────────────────────── - ──────────────────────\n",
       "⎢    ⎝2    ⎠         ⎜            ___________________                         \n",
       "⎢                    ⎜   7/2     ╱       99              7/2                  \n",
       "⎢                    ⎜  l   ⋅   ╱  ───────────── + 1    l   ⋅(39 + 18⋅√5)⋅   ╱\n",
       "⎢                    ⎜         ╱               2                            ╱ \n",
       "⎣                    ⎝       ╲╱    (39 + 18⋅√5)                           ╲╱  \n",
       "\n",
       "                                     2        2         ⎤\n",
       "                  ⎞          42⋅√10⋅x ⋅(l - x)          ⎥\n",
       "──────────────────⎟ + ───────────────────────────────   ⎥\n",
       "__________________⎟             _____________________   ⎥\n",
       "         3        ⎟    9/2     ╱            3           ⎥\n",
       "+ ─────────────── ⎟   l   ⋅   ╱  1 + ───────────────    ⎥\n",
       "                2 ⎟          ╱                     2    ⎥\n",
       "  (-23 + 2⋅√133)  ⎠        ╲╱        (-23 + 2⋅√133)     ⎥\n",
       "                                                        ⎥\n",
       "                                   2        2           ⎥\n",
       "                 ⎞         42⋅√10⋅x ⋅(l - x)            ⎥\n",
       "─────────────────⎟ + ──────────────────────────────     ⎥\n",
       "_________________⎟             ____________________     ⎥\n",
       "    3            ⎟    9/2     ╱       3                 ⎥\n",
       "──────────── + 1 ⎟   l   ⋅   ╱  ────────────── + 1      ⎥\n",
       "           2     ⎟          ╱                2          ⎥\n",
       "3 + 2⋅√133)      ⎠        ╲╱    (23 + 2⋅√133)           ⎥\n",
       "                                                        ⎥\n",
       "                                     2 ⎛l    ⎞        2 ⎥\n",
       "                           12⋅√2310⋅x ⋅⎜─ - x⎟⋅(l - x)  ⎥\n",
       "10                   ⎞                 ⎝2    ⎠          ⎥\n",
       "─────────────────────⎟ + ───────────────────────────────⎥\n",
       " ____________________⎟              ____________________⎥\n",
       "╱           99       ⎟    11/2     ╱           99       ⎥\n",
       "  1 + ────────────── ⎟   l    ⋅   ╱  1 + ────────────── ⎥\n",
       "                   2 ⎟           ╱                    2 ⎥\n",
       "      (-39 + 18⋅√5)  ⎠         ╲╱        (-39 + 18⋅√5)  ⎥\n",
       "                                                        ⎥\n",
       "                                   2 ⎛l    ⎞        2   ⎥\n",
       "                         12⋅√2310⋅x ⋅⎜─ - x⎟⋅(l - x)    ⎥\n",
       "10                  ⎞                ⎝2    ⎠            ⎥\n",
       "────────────────────⎟ + ──────────────────────────────  ⎥\n",
       " ___________________⎟              ___________________  ⎥\n",
       "╱       99          ⎟    11/2     ╱       99            ⎥\n",
       "  ───────────── + 1 ⎟   l    ⋅   ╱  ───────────── + 1   ⎥\n",
       "              2     ⎟           ╱               2       ⎥\n",
       "  (39 + 18⋅√5)      ⎠         ╲╱    (39 + 18⋅√5)        ⎦"
      ]
     },
     "execution_count": 8,
     "metadata": {},
     "output_type": "execute_result"
    }
   ],
   "source": [
    "assert (coefficient.T @ overlap @ coefficient).applyfunc(sympy.cancel) == sympy.eye(len(basis))  \n",
    "#wavefunction are orthonormal\n",
    "wavefunction = basis.T @ coefficient\n",
    "assert ((wavefunction.T @ wavefunction\n",
    "        ).applyfunc(lambda element: sympy.integrate(element, (position, 0, length)).cancel()) \n",
    "        == sympy.eye(len(wavefunction)))  #wavefunction are orthonormal\n",
    "wavefunction.T"
   ]
  },
  {
   "cell_type": "code",
   "execution_count": 9,
   "metadata": {
    "collapsed": false
   },
   "outputs": [
    {
     "data": {
      "text/plain": [
       "array([   4.93487481,   19.75077641,   51.06512519,  100.24922359])"
      ]
     },
     "execution_count": 9,
     "metadata": {},
     "output_type": "execute_result"
    }
   ],
   "source": [
    "numerical = [(hbar, 1), (length, 1), (mass, 1)]\n",
    "import scipy.linalg\n",
    "numericalEnergy, numericalCoefficient = scipy.linalg.eigh(\n",
    "    sympy.matrix2numpy(hamiltonian.subs(numerical), float),\n",
    "    sympy.matrix2numpy(overlap.subs(numerical), float))\n",
    "numericalEnergy"
   ]
  },
  {
   "cell_type": "code",
   "execution_count": 10,
   "metadata": {
    "collapsed": false
   },
   "outputs": [
    {
     "data": {
      "text/latex": [
       "$$\\left[\\begin{matrix}4.93487481065841 & 0 & 0 & 0\\\\0 & 51.0651251893416 & 0 & 0\\\\0 & 0 & 19.7507764050038 & 0\\\\0 & 0 & 0 & 100.249223594996\\end{matrix}\\right]$$"
      ],
      "text/plain": [
       "⎡4.93487481065841         0                 0                 0        ⎤\n",
       "⎢                                                                      ⎥\n",
       "⎢       0          51.0651251893416         0                 0        ⎥\n",
       "⎢                                                                      ⎥\n",
       "⎢       0                 0          19.7507764050038         0        ⎥\n",
       "⎢                                                                      ⎥\n",
       "⎣       0                 0                 0          100.249223594996⎦"
      ]
     },
     "execution_count": 10,
     "metadata": {},
     "output_type": "execute_result"
    }
   ],
   "source": [
    "energy.subs(numerical).evalf()"
   ]
  },
  {
   "cell_type": "code",
   "execution_count": 11,
   "metadata": {
    "collapsed": false
   },
   "outputs": [
    {
     "data": {
      "text/plain": [
       "array([[  -4.40399751,    0.        ,  -28.64620055,    0.        ],\n",
       "       [  -4.9903486 ,    0.        ,  132.7218762 ,    0.        ],\n",
       "       [   0.        ,  -16.78235216,    0.        ,  -98.98662867],\n",
       "       [  -0.        ,  -71.84781643,    0.        ,  572.2568403 ]])"
      ]
     },
     "execution_count": 11,
     "metadata": {},
     "output_type": "execute_result"
    }
   ],
   "source": [
    "numericalCoefficient"
   ]
  },
  {
   "cell_type": "code",
   "execution_count": 12,
   "metadata": {
    "collapsed": false
   },
   "outputs": [
    {
     "data": {
      "text/latex": [
       "$$\\left[\\begin{matrix}4.40399751133633 & -28.6462005494646 & 0 & 0\\\\4.99034859672658 & 132.721876195611 & 0 & 0\\\\0 & 0 & 16.7823521557751 & -98.9866286733696\\\\0 & 0 & 71.8478164291383 & 572.256840303692\\end{matrix}\\right]$$"
      ],
      "text/plain": [
       "⎡4.40399751133633  -28.6462005494646         0                  0        ⎤\n",
       "⎢                                                                        ⎥\n",
       "⎢4.99034859672658  132.721876195611          0                  0        ⎥\n",
       "⎢                                                                        ⎥\n",
       "⎢       0                  0          16.7823521557751  -98.9866286733696⎥\n",
       "⎢                                                                        ⎥\n",
       "⎣       0                  0          71.8478164291383  572.256840303692 ⎦"
      ]
     },
     "execution_count": 12,
     "metadata": {},
     "output_type": "execute_result"
    }
   ],
   "source": [
    "coefficient.subs(numerical).evalf()"
   ]
  }
 ],
 "metadata": {
  "kernelspec": {
   "display_name": "Python 3",
   "language": "python",
   "name": "python3"
  },
  "language_info": {
   "codemirror_mode": {
    "name": "ipython",
    "version": 3
   },
   "file_extension": ".py",
   "mimetype": "text/x-python",
   "name": "python",
   "nbconvert_exporter": "python",
   "pygments_lexer": "ipython3",
   "version": "3.5.2"
  }
 },
 "nbformat": 4,
 "nbformat_minor": 2
}
